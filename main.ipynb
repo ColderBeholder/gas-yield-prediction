{
 "cells": [
  {
   "cell_type": "markdown",
   "metadata": {},
   "source": [
    "### Import and Settings"
   ]
  },
  {
   "cell_type": "code",
   "execution_count": null,
   "metadata": {},
   "outputs": [],
   "source": [
    "#importing necessary libraries\n",
    "\n",
    "import numpy as np\n",
    "import utils\n",
    "import pandas as pd\n",
    "import torch\n",
    "import torch.nn as nn\n",
    "import torch.optim as optim\n",
    "from sklearn.metrics import mean_squared_error\n",
    "import random"
   ]
  },
  {
   "cell_type": "code",
   "execution_count": null,
   "metadata": {},
   "outputs": [],
   "source": [
    "# Seed settings\n",
    "\n",
    "def START_seed():\n",
    "    seed = 7\n",
    "    torch.manual_seed(seed)\n",
    "    torch.cuda.manual_seed(seed)\n",
    "    torch.cuda.manual_seed_all(seed)\n",
    "    np.random.seed(seed)\n",
    "    random.seed(seed)\n",
    "    torch.backends.cudnn.benchmark = False\n",
    "    torch.backends.cudnn.deterministic = True\n",
    "START_seed()"
   ]
  },
  {
   "cell_type": "code",
   "execution_count": 3,
   "metadata": {},
   "outputs": [],
   "source": [
    "data_file = 'data/plants_data.xlsx'\n",
    "split = 0.8"
   ]
  },
  {
   "cell_type": "markdown",
   "metadata": {},
   "source": [
    "### Data Pre Processing"
   ]
  },
  {
   "cell_type": "code",
   "execution_count": null,
   "metadata": {},
   "outputs": [],
   "source": [
    "plant = 'Y' # Edit to choose which plant to run on [B, K, S, X Y]\n",
    "processed = 'data/processed_' + plant.lower() + '.xlsx'\n",
    "plant = 'Plant ' + plant.upper()"
   ]
  },
  {
   "cell_type": "code",
   "execution_count": null,
   "metadata": {},
   "outputs": [
    {
     "name": "stdout",
     "output_type": "stream",
     "text": [
      "Number of Columns: 12 , Number of Rows: 1236\n"
     ]
    },
    {
     "data": {
      "text/html": [
       "<div>\n",
       "<style scoped>\n",
       "    .dataframe tbody tr th:only-of-type {\n",
       "        vertical-align: middle;\n",
       "    }\n",
       "\n",
       "    .dataframe tbody tr th {\n",
       "        vertical-align: top;\n",
       "    }\n",
       "\n",
       "    .dataframe thead th {\n",
       "        text-align: right;\n",
       "    }\n",
       "</style>\n",
       "<table border=\"1\" class=\"dataframe\">\n",
       "  <thead>\n",
       "    <tr style=\"text-align: right;\">\n",
       "      <th></th>\n",
       "      <th>Feed B</th>\n",
       "      <th>Feed S</th>\n",
       "      <th>Feed K</th>\n",
       "      <th>Feed i</th>\n",
       "      <th>Feed O</th>\n",
       "      <th>Feed N</th>\n",
       "      <th>C1 RR</th>\n",
       "      <th>C1</th>\n",
       "      <th>NGL RR</th>\n",
       "      <th>NGL</th>\n",
       "      <th>Sulphur RR</th>\n",
       "      <th>Sulphur</th>\n",
       "    </tr>\n",
       "  </thead>\n",
       "  <tbody>\n",
       "    <tr>\n",
       "      <th>1</th>\n",
       "      <td>299</td>\n",
       "      <td>178</td>\n",
       "      <td>73</td>\n",
       "      <td>797</td>\n",
       "      <td>139</td>\n",
       "      <td>114</td>\n",
       "      <td>1.0</td>\n",
       "      <td>1211</td>\n",
       "      <td>0.95</td>\n",
       "      <td>9494</td>\n",
       "      <td>1.0</td>\n",
       "      <td>2658</td>\n",
       "    </tr>\n",
       "    <tr>\n",
       "      <th>2</th>\n",
       "      <td>299</td>\n",
       "      <td>183</td>\n",
       "      <td>69</td>\n",
       "      <td>758</td>\n",
       "      <td>139</td>\n",
       "      <td>134</td>\n",
       "      <td>1.0</td>\n",
       "      <td>1202</td>\n",
       "      <td>0.95</td>\n",
       "      <td>9687</td>\n",
       "      <td>1.0</td>\n",
       "      <td>2395</td>\n",
       "    </tr>\n",
       "    <tr>\n",
       "      <th>3</th>\n",
       "      <td>299</td>\n",
       "      <td>184</td>\n",
       "      <td>86</td>\n",
       "      <td>769</td>\n",
       "      <td>179</td>\n",
       "      <td>115</td>\n",
       "      <td>1.0</td>\n",
       "      <td>1198</td>\n",
       "      <td>0.95</td>\n",
       "      <td>9742</td>\n",
       "      <td>1.0</td>\n",
       "      <td>2344</td>\n",
       "    </tr>\n",
       "    <tr>\n",
       "      <th>4</th>\n",
       "      <td>299</td>\n",
       "      <td>186</td>\n",
       "      <td>69</td>\n",
       "      <td>749</td>\n",
       "      <td>199</td>\n",
       "      <td>117</td>\n",
       "      <td>1.0</td>\n",
       "      <td>1191</td>\n",
       "      <td>0.95</td>\n",
       "      <td>10048</td>\n",
       "      <td>1.0</td>\n",
       "      <td>2409</td>\n",
       "    </tr>\n",
       "    <tr>\n",
       "      <th>5</th>\n",
       "      <td>299</td>\n",
       "      <td>185</td>\n",
       "      <td>76</td>\n",
       "      <td>667</td>\n",
       "      <td>197</td>\n",
       "      <td>122</td>\n",
       "      <td>1.0</td>\n",
       "      <td>1185</td>\n",
       "      <td>0.95</td>\n",
       "      <td>10053</td>\n",
       "      <td>1.0</td>\n",
       "      <td>2311</td>\n",
       "    </tr>\n",
       "  </tbody>\n",
       "</table>\n",
       "</div>"
      ],
      "text/plain": [
       "  Feed B Feed S Feed K Feed i Feed O Feed N  C1 RR    C1  NGL RR    NGL  \\\n",
       "1    299    178     73    797    139    114    1.0  1211    0.95   9494   \n",
       "2    299    183     69    758    139    134    1.0  1202    0.95   9687   \n",
       "3    299    184     86    769    179    115    1.0  1198    0.95   9742   \n",
       "4    299    186     69    749    199    117    1.0  1191    0.95  10048   \n",
       "5    299    185     76    667    197    122    1.0  1185    0.95  10053   \n",
       "\n",
       "   Sulphur RR Sulphur  \n",
       "1         1.0    2658  \n",
       "2         1.0    2395  \n",
       "3         1.0    2344  \n",
       "4         1.0    2409  \n",
       "5         1.0    2311  "
      ]
     },
     "execution_count": 5,
     "metadata": {},
     "output_type": "execute_result"
    }
   ],
   "source": [
    "df_ = pd.read_excel(data_file, sheet_name=plant, skiprows=1, nrows=1239)\n",
    "\n",
    "# Remove unnecessary columns and rows\n",
    "df_.drop(index=df_.index[0], inplace=True)\n",
    "df_.drop(columns=['Date'], inplace=True)\n",
    "df_.columns = df_.columns.str.strip()\n",
    "\n",
    "rows, cols = df_.shape\n",
    "reaction_rates = [col for col in df_.columns if \" RR\" in col]\n",
    "\n",
    "print(\"Number of Columns:\", cols, \", Number of Rows:\", rows)\n",
    "\n",
    "df_.head()"
   ]
  },
  {
   "cell_type": "code",
   "execution_count": 6,
   "metadata": {},
   "outputs": [],
   "source": [
    "# Give assumption of fully optimized outputs\n",
    "for rate in reaction_rates:\n",
    "    df_[rate[:-3]] = df_[rate[:-3]] / df_[rate]"
   ]
  },
  {
   "cell_type": "code",
   "execution_count": 7,
   "metadata": {},
   "outputs": [],
   "source": [
    "cols = list(set(df_.columns) - set(reaction_rates))\n",
    "df = df_.copy()\n",
    "\n",
    "df = utils.rm_zeros(df, cols)\n",
    "df = utils.rm_outliers(df, n_neighbors=5, contamination=0.01)\n",
    "\n",
    "df = df[cols] * 1.0\n",
    "\n",
    "for i in cols:\n",
    "    df[i] = pd.to_numeric(df[i], errors='coerce')"
   ]
  },
  {
   "cell_type": "code",
   "execution_count": 8,
   "metadata": {},
   "outputs": [],
   "source": [
    "df.to_excel(processed, index=False)"
   ]
  },
  {
   "cell_type": "code",
   "execution_count": 9,
   "metadata": {},
   "outputs": [],
   "source": [
    "# Edit here to get models of different features and targets\n",
    "# feeds = features\n",
    "# prods = targets\n",
    "\n",
    "feeds = [col for col in df.columns if \"Feed\" in col]\n",
    "prods = list(set(df.columns) - set(feeds))\n",
    "df_train = df.sample(frac=split, random_state=7)\n",
    "df_test = df.drop(df_train.index)"
   ]
  },
  {
   "cell_type": "markdown",
   "metadata": {},
   "source": [
    "### Regression Based Prediction"
   ]
  },
  {
   "cell_type": "code",
   "execution_count": 12,
   "metadata": {},
   "outputs": [
    {
     "name": "stdout",
     "output_type": "stream",
     "text": [
      "===================== Results =====================\n",
      "output Streams = C1, NGL, Sulphur\n",
      "                          R2 Score            MSE        RMSE         MAE  \\\n",
      "Linear Regression         0.402799  377322.393320  614.265735  331.390547   \n",
      "Decision Tree             0.332100  373772.508216  611.369371  305.599056   \n",
      "Random Forest             0.614412  214948.303115  463.625175  230.431211   \n",
      "Support Vector Regressor  0.061735  830995.837160  911.589731  486.458536   \n",
      "\n",
      "                             CMAPE  \n",
      "Linear Regression         0.911435  \n",
      "Decision Tree             0.911323  \n",
      "Random Forest             0.931919  \n",
      "Support Vector Regressor  0.883715   \n",
      "\n",
      "LinearRegression()\n",
      "LinearRegression()\n",
      "LinearRegression()\n"
     ]
    }
   ],
   "source": [
    "model, result = utils.evaluate_models(df, rows=prods, cols=feeds)\n",
    "\n",
    "weights, biases = utils.parameter_extractor(model['Linear Regression'], prods)"
   ]
  },
  {
   "cell_type": "markdown",
   "metadata": {},
   "source": [
    "### Neural Network Based Prediction"
   ]
  },
  {
   "cell_type": "code",
   "execution_count": null,
   "metadata": {},
   "outputs": [],
   "source": [
    "# Edit hyperparamters to try different outcomes\n",
    "\n",
    "hidden_sizes = [3,4,8,16]\n",
    "criterion = nn.MSELoss()\n",
    "optimizer = optim.Adam\n",
    "lr = 0.001\n",
    "epochs = 2000\n",
    "n_splits = 5\n",
    "\n",
    "config = {\n",
    "    \"input\"        : feeds,\n",
    "    \"hidden_sizes\" : hidden_sizes,\n",
    "    \"output\"       : prods,\n",
    "    \"df\"           : df_train,\n",
    "    \"coefficients\" : weights,\n",
    "    \"biases\"       : biases,\n",
    "    \"lr\"           : lr,\n",
    "}"
   ]
  },
  {
   "cell_type": "code",
   "execution_count": null,
   "metadata": {},
   "outputs": [
    {
     "name": "stdout",
     "output_type": "stream",
     "text": [
      "\n",
      "Fold 1/5\n",
      "Epoch [200/2000], Training Loss: 369138.3750, Validation Loss: 273185.6875, CMAPE: 89.52%, R²: 0.9895\n",
      "Epoch [400/2000], Training Loss: 368732.9062, Validation Loss: 272432.9062, CMAPE: 89.53%, R²: 0.9895\n",
      "Epoch [600/2000], Training Loss: 368250.2500, Validation Loss: 271676.0312, CMAPE: 89.54%, R²: 0.9895\n",
      "Epoch [800/2000], Training Loss: 367714.6875, Validation Loss: 270820.7812, CMAPE: 89.54%, R²: 0.9896\n",
      "Epoch [1000/2000], Training Loss: 367156.4688, Validation Loss: 269910.0625, CMAPE: 89.55%, R²: 0.9896\n",
      "Epoch [1200/2000], Training Loss: 366598.8438, Validation Loss: 268977.6875, CMAPE: 89.56%, R²: 0.9896\n",
      "Epoch [1400/2000], Training Loss: 366058.3125, Validation Loss: 268049.4688, CMAPE: 89.57%, R²: 0.9897\n",
      "Epoch [1600/2000], Training Loss: 365545.5000, Validation Loss: 267144.8125, CMAPE: 89.58%, R²: 0.9897\n",
      "Epoch [1800/2000], Training Loss: 365063.9688, Validation Loss: 266274.7500, CMAPE: 89.60%, R²: 0.9897\n",
      "Epoch [2000/2000], Training Loss: 364611.9062, Validation Loss: 265444.1250, CMAPE: 89.62%, R²: 0.9898\n",
      "Fold 1 Validation Loss: 265444.1250, CMAPE: 89.62%, R²: 0.9898\n",
      "\n",
      "Fold 2/5\n",
      "Epoch [200/2000], Training Loss: 353836.3750, Validation Loss: 403088.7812, CMAPE: 87.73%, R²: 0.9845\n",
      "Epoch [400/2000], Training Loss: 351403.5000, Validation Loss: 400665.2500, CMAPE: 87.61%, R²: 0.9846\n",
      "Epoch [600/2000], Training Loss: 350004.8125, Validation Loss: 398929.7812, CMAPE: 87.60%, R²: 0.9847\n",
      "Epoch [800/2000], Training Loss: 348411.7500, Validation Loss: 396938.7812, CMAPE: 87.59%, R²: 0.9847\n",
      "Epoch [1000/2000], Training Loss: 346701.8750, Validation Loss: 394782.6875, CMAPE: 87.57%, R²: 0.9848\n",
      "Epoch [1200/2000], Training Loss: 344938.4375, Validation Loss: 392536.6875, CMAPE: 87.56%, R²: 0.9849\n",
      "Epoch [1400/2000], Training Loss: 343171.4375, Validation Loss: 390262.4688, CMAPE: 87.55%, R²: 0.9850\n",
      "Epoch [1600/2000], Training Loss: 341436.1562, Validation Loss: 388007.6250, CMAPE: 87.53%, R²: 0.9851\n",
      "Epoch [1800/2000], Training Loss: 339747.4688, Validation Loss: 385799.1250, CMAPE: 87.53%, R²: 0.9852\n",
      "Epoch [2000/2000], Training Loss: 338092.5000, Validation Loss: 383636.9375, CMAPE: 87.53%, R²: 0.9853\n",
      "Fold 2 Validation Loss: 383636.9375, CMAPE: 87.53%, R²: 0.9853\n",
      "\n",
      "Fold 3/5\n",
      "Epoch [200/2000], Training Loss: 416898.0625, Validation Loss: 416997.8750, CMAPE: 89.76%, R²: 0.9845\n",
      "Epoch [400/2000], Training Loss: 364441.0938, Validation Loss: 378530.6562, CMAPE: 89.67%, R²: 0.9859\n",
      "Epoch [600/2000], Training Loss: 359823.9375, Validation Loss: 374951.4688, CMAPE: 89.64%, R²: 0.9860\n",
      "Epoch [800/2000], Training Loss: 355355.5938, Validation Loss: 371583.9375, CMAPE: 89.59%, R²: 0.9862\n",
      "Epoch [1000/2000], Training Loss: 351356.3750, Validation Loss: 368685.2500, CMAPE: 89.55%, R²: 0.9863\n",
      "Epoch [1200/2000], Training Loss: 347960.4062, Validation Loss: 366352.5312, CMAPE: 89.51%, R²: 0.9864\n",
      "Epoch [1400/2000], Training Loss: 345180.0000, Validation Loss: 364579.6250, CMAPE: 89.47%, R²: 0.9864\n",
      "Epoch [1600/2000], Training Loss: 342951.6875, Validation Loss: 363297.6250, CMAPE: 89.45%, R²: 0.9865\n",
      "Epoch [1800/2000], Training Loss: 341169.8125, Validation Loss: 362404.1250, CMAPE: 89.43%, R²: 0.9865\n",
      "Epoch [2000/2000], Training Loss: 339708.4375, Validation Loss: 361782.5000, CMAPE: 89.43%, R²: 0.9865\n",
      "Fold 3 Validation Loss: 361782.5000, CMAPE: 89.43%, R²: 0.9865\n",
      "\n",
      "Fold 4/5\n",
      "Epoch [200/2000], Training Loss: 352318.7188, Validation Loss: 366456.2500, CMAPE: 88.65%, R²: 0.9863\n",
      "Epoch [400/2000], Training Loss: 338959.2812, Validation Loss: 362588.0938, CMAPE: 88.50%, R²: 0.9864\n",
      "Epoch [600/2000], Training Loss: 338825.3750, Validation Loss: 362595.0938, CMAPE: 88.51%, R²: 0.9864\n",
      "Epoch [800/2000], Training Loss: 338708.5000, Validation Loss: 362513.2188, CMAPE: 88.52%, R²: 0.9864\n",
      "Epoch [1000/2000], Training Loss: 338587.0312, Validation Loss: 362336.7812, CMAPE: 88.53%, R²: 0.9864\n",
      "Epoch [1200/2000], Training Loss: 338447.0938, Validation Loss: 362082.7188, CMAPE: 88.54%, R²: 0.9864\n",
      "Epoch [1400/2000], Training Loss: 338283.9688, Validation Loss: 361797.8438, CMAPE: 88.55%, R²: 0.9864\n",
      "Epoch [1600/2000], Training Loss: 338094.4062, Validation Loss: 361473.5000, CMAPE: 88.56%, R²: 0.9864\n",
      "Epoch [1800/2000], Training Loss: 337873.3438, Validation Loss: 361116.1875, CMAPE: 88.58%, R²: 0.9865\n",
      "Epoch [2000/2000], Training Loss: 337612.5938, Validation Loss: 360694.5000, CMAPE: 88.59%, R²: 0.9865\n",
      "Fold 4 Validation Loss: 360694.5000, CMAPE: 88.59%, R²: 0.9865\n",
      "\n",
      "Fold 5/5\n",
      "Epoch [200/2000], Training Loss: 7826348.5000, Validation Loss: 7100163.0000, CMAPE: 70.74%, R²: 0.7225\n",
      "Epoch [400/2000], Training Loss: 341142.1562, Validation Loss: 361034.5000, CMAPE: 88.12%, R²: 0.9859\n",
      "Epoch [600/2000], Training Loss: 340936.6875, Validation Loss: 360940.8750, CMAPE: 88.11%, R²: 0.9859\n",
      "Epoch [800/2000], Training Loss: 340713.9688, Validation Loss: 360872.0938, CMAPE: 88.11%, R²: 0.9859\n",
      "Epoch [1000/2000], Training Loss: 340482.7188, Validation Loss: 360832.7812, CMAPE: 88.10%, R²: 0.9859\n",
      "Epoch [1200/2000], Training Loss: 340246.1562, Validation Loss: 360826.5625, CMAPE: 88.10%, R²: 0.9859\n",
      "Epoch [1400/2000], Training Loss: 340003.3438, Validation Loss: 360852.7812, CMAPE: 88.10%, R²: 0.9859\n",
      "Epoch [1600/2000], Training Loss: 339751.4688, Validation Loss: 360908.9375, CMAPE: 88.11%, R²: 0.9859\n",
      "Epoch [1800/2000], Training Loss: 339486.0938, Validation Loss: 360989.2812, CMAPE: 88.12%, R²: 0.9859\n",
      "Epoch [2000/2000], Training Loss: 339201.1562, Validation Loss: 361086.4062, CMAPE: 88.13%, R²: 0.9859\n",
      "Fold 5 Validation Loss: 361086.4062, CMAPE: 88.13%, R²: 0.9859\n",
      "\n",
      "Average Validation Loss: 346528.8937, Average CMAPE: 88.66%, Average R²: 0.9868\n"
     ]
    },
    {
     "data": {
      "image/png": "[encoded data removed]",
      "text/plain": [
       "<Figure size 1000x600 with 1 Axes>"
      ]
     },
     "metadata": {},
     "output_type": "display_data"
    }
   ],
   "source": [
    "# Train with cross validation\n",
    "\n",
    "fnn = utils.makeNN(feeds, hidden_sizes, prods, df_train, coefficients=weights, biases=biases, lr=lr)\n",
    "\n",
    "models, fold_results, trainLoss, valLoss = utils.trainKfolds(fnn, criterion, optimizer, epochs=epochs, n_splits=n_splits)\n",
    "utils.loss_plot(trainLoss, valLoss)"
   ]
  },
  {
   "cell_type": "markdown",
   "metadata": {},
   "source": [
    "### Yield Calculation and Evaluation"
   ]
  },
  {
   "cell_type": "code",
   "execution_count": null,
   "metadata": {},
   "outputs": [],
   "source": [
    "# Edit to get more / less accurate yield calculations\n",
    "\n",
    "constExp = [0,1000,2]\n",
    "feedRangeBounds = [0,2000]"
   ]
  },
  {
   "cell_type": "code",
   "execution_count": null,
   "metadata": {},
   "outputs": [
    {
     "data": {
      "text/html": [
       "<div>\n",
       "<style scoped>\n",
       "    .dataframe tbody tr th:only-of-type {\n",
       "        vertical-align: middle;\n",
       "    }\n",
       "\n",
       "    .dataframe tbody tr th {\n",
       "        vertical-align: top;\n",
       "    }\n",
       "\n",
       "    .dataframe thead th {\n",
       "        text-align: right;\n",
       "    }\n",
       "</style>\n",
       "<table border=\"1\" class=\"dataframe\">\n",
       "  <thead>\n",
       "    <tr style=\"text-align: right;\">\n",
       "      <th></th>\n",
       "      <th>NGL</th>\n",
       "      <th>Sulphur</th>\n",
       "      <th>C1</th>\n",
       "    </tr>\n",
       "  </thead>\n",
       "  <tbody>\n",
       "    <tr>\n",
       "      <th>Feed i</th>\n",
       "      <td>1.920504</td>\n",
       "      <td>0.351603</td>\n",
       "      <td>0.170947</td>\n",
       "    </tr>\n",
       "    <tr>\n",
       "      <th>Feed B</th>\n",
       "      <td>5.414323</td>\n",
       "      <td>0.977239</td>\n",
       "      <td>0.477391</td>\n",
       "    </tr>\n",
       "    <tr>\n",
       "      <th>Feed S</th>\n",
       "      <td>5.763380</td>\n",
       "      <td>1.026102</td>\n",
       "      <td>0.503989</td>\n",
       "    </tr>\n",
       "    <tr>\n",
       "      <th>Feed K</th>\n",
       "      <td>-0.759325</td>\n",
       "      <td>-0.130454</td>\n",
       "      <td>-0.064188</td>\n",
       "    </tr>\n",
       "    <tr>\n",
       "      <th>Feed O</th>\n",
       "      <td>11.260004</td>\n",
       "      <td>2.016667</td>\n",
       "      <td>0.987769</td>\n",
       "    </tr>\n",
       "  </tbody>\n",
       "</table>\n",
       "</div>"
      ],
      "text/plain": [
       "              NGL   Sulphur        C1\n",
       "Feed i   1.920504  0.351603  0.170947\n",
       "Feed B   5.414323  0.977239  0.477391\n",
       "Feed S   5.763380  1.026102  0.503989\n",
       "Feed K  -0.759325 -0.130454 -0.064188\n",
       "Feed O  11.260004  2.016667  0.987769"
      ]
     },
     "execution_count": 268,
     "metadata": {},
     "output_type": "execute_result"
    }
   ],
   "source": [
    "yield_results, yield_std = utils.feedsYield(models, feeds, prods, multipleModels=1, constExp=constExp, feedRangeBounds=feedRangeBounds)\n",
    "yield_results.head()\n"
   ]
  },
  {
   "cell_type": "code",
   "execution_count": null,
   "metadata": {},
   "outputs": [
    {
     "name": "stdout",
     "output_type": "stream",
     "text": [
      "MSE: 335509.4263, and CMAPE: 0.8926\n"
     ]
    }
   ],
   "source": [
    "# Evaluate created models\n",
    "\n",
    "pred = utils.ensemble_predict(models, torch.tensor(df_test[feeds].values, dtype=torch.float32))\n",
    "test = df_test[prods].to_numpy()\n",
    "\n",
    "MSE = mean_squared_error(test, pred)\n",
    "CMAPE = 1 - np.mean(np.abs((test - pred) / test))\n",
    "\n",
    "print(f'MSE: {MSE:.4f}, and CMAPE: {CMAPE:.4f}')"
   ]
  },
  {
   "cell_type": "code",
   "execution_count": null,
   "metadata": {},
   "outputs": [
    {
     "data": {
      "text/html": [
       "<div>\n",
       "<style scoped>\n",
       "    .dataframe tbody tr th:only-of-type {\n",
       "        vertical-align: middle;\n",
       "    }\n",
       "\n",
       "    .dataframe tbody tr th {\n",
       "        vertical-align: top;\n",
       "    }\n",
       "\n",
       "    .dataframe thead th {\n",
       "        text-align: right;\n",
       "    }\n",
       "</style>\n",
       "<table border=\"1\" class=\"dataframe\">\n",
       "  <thead>\n",
       "    <tr style=\"text-align: right;\">\n",
       "      <th></th>\n",
       "      <th>C1</th>\n",
       "      <th>NGL</th>\n",
       "      <th>Sulphur</th>\n",
       "    </tr>\n",
       "  </thead>\n",
       "  <tbody>\n",
       "    <tr>\n",
       "      <th>Feed B</th>\n",
       "      <td>0.72</td>\n",
       "      <td>7.80</td>\n",
       "      <td>1.55</td>\n",
       "    </tr>\n",
       "    <tr>\n",
       "      <th>Feed S</th>\n",
       "      <td>0.84</td>\n",
       "      <td>2.00</td>\n",
       "      <td>2.00</td>\n",
       "    </tr>\n",
       "    <tr>\n",
       "      <th>Feed K</th>\n",
       "      <td>0.70</td>\n",
       "      <td>9.47</td>\n",
       "      <td>0.00</td>\n",
       "    </tr>\n",
       "    <tr>\n",
       "      <th>Feed i</th>\n",
       "      <td>0.84</td>\n",
       "      <td>2.49</td>\n",
       "      <td>0.90</td>\n",
       "    </tr>\n",
       "    <tr>\n",
       "      <th>Feed O</th>\n",
       "      <td>0.50</td>\n",
       "      <td>23.40</td>\n",
       "      <td>1.90</td>\n",
       "    </tr>\n",
       "  </tbody>\n",
       "</table>\n",
       "</div>"
      ],
      "text/plain": [
       "          C1    NGL  Sulphur\n",
       "Feed B  0.72   7.80     1.55\n",
       "Feed S  0.84   2.00     2.00\n",
       "Feed K  0.70   9.47     0.00\n",
       "Feed i  0.84   2.49     0.90\n",
       "Feed O  0.50  23.40     1.90"
      ]
     },
     "execution_count": 270,
     "metadata": {},
     "output_type": "execute_result"
    }
   ],
   "source": [
    "# Empirical yields calculated in the lab, used as a baseline\n",
    "\n",
    "theoretical = pd.DataFrame.from_dict({'Feed B': {'C1' : 0.72, 'NGL' : 7.80, 'Sulphur': 1.55},\n",
    "                                      'Feed S': {'C1' : 0.84, 'NGL' : 2.00, 'Sulphur': 2.00},\n",
    "                                      'Feed K': {'C1' : 0.70, 'NGL' : 9.47, 'Sulphur': 0.00},\n",
    "                                      'Feed i': {'C1' : 0.84, 'NGL' : 2.49, 'Sulphur': 0.90},\n",
    "                                      'Feed O': {'C1' : 0.50, 'NGL' : 23.4, 'Sulphur': 1.90},\n",
    "                                      'Feed N': {'C1' : 0.80, 'NGL' : 6.67, 'Sulphur': 0.60}}).T\n",
    "\n",
    "theoretical = theoretical[[col for col in theoretical.columns if col in prods]]\n",
    "theoretical = theoretical.loc[[idx for idx in theoretical.index if idx in feeds]]\n",
    "\n",
    "theoretical.head()"
   ]
  },
  {
   "cell_type": "code",
   "execution_count": null,
   "metadata": {},
   "outputs": [
    {
     "name": "stdout",
     "output_type": "stream",
     "text": [
      "Theoretical yields prediction evaluation\n",
      "  MSE: 63324809.1714\n",
      "CMAPE: 82.6583%\n"
     ]
    }
   ],
   "source": [
    "# Evaluation score of theoretical yields\n",
    "\n",
    "pred_theo = df_test[feeds].dot(theoretical)\n",
    "\n",
    "MSE = mean_squared_error(df_test[prods], pred_theo)\n",
    "CMAPE = (1 - np.mean(np.abs((df_test[prods] - pred_theo) / df_test[prods]))) * 100\n",
    "\n",
    "print(f'Theoretical yields prediction evaluation\\n  MSE: {MSE:.4f}\\nCMAPE: {CMAPE:.4f}%')"
   ]
  },
  {
   "cell_type": "code",
   "execution_count": null,
   "metadata": {},
   "outputs": [
    {
     "name": "stdout",
     "output_type": "stream",
     "text": [
      "Model yields prediction evaluation\n",
      "  MSE: 5372694.2851\n",
      "CMAPE: 69.6503%\n"
     ]
    }
   ],
   "source": [
    "# Evaluation score of predicted yields\n",
    "\n",
    "predNN = df_test[feeds].dot(yield_results) \n",
    "\n",
    "MSE = mean_squared_error(df_test[prods], predNN)\n",
    "CMAPE = (1 - np.mean(np.abs((df_test[prods] - predNN) / df_test[prods]))) * 100\n",
    "\n",
    "print(f'Model yields prediction evaluation\\n  MSE: {MSE:.4f}\\nCMAPE: {CMAPE:.4f}%')"
   ]
  },
  {
   "cell_type": "markdown",
   "metadata": {},
   "source": [
    "### Model Saving"
   ]
  },
  {
   "cell_type": "code",
   "execution_count": null,
   "metadata": {},
   "outputs": [],
   "source": [
    "save_path = 'saved_models/' + 'y_model.pth'"
   ]
  },
  {
   "cell_type": "code",
   "execution_count": null,
   "metadata": {},
   "outputs": [
    {
     "name": "stdout",
     "output_type": "stream",
     "text": [
      "Models saved to saved_models/y_model.pth\n"
     ]
    }
   ],
   "source": [
    "torch.save({\n",
    "    \"models\": [model.state_dict() for model in models],\n",
    "    \"config\": [config for model in models]\n",
    "}, save_path)\n",
    "\n",
    "print(f\"Models saved to {save_path}\")"
   ]
  },
  {
   "cell_type": "markdown",
   "metadata": {},
   "source": [
    "# Plant Y:\n",
    "## -------------------------------------------------------------------------"
   ]
  },
  {
   "cell_type": "markdown",
   "metadata": {},
   "source": [
    "### Data Loading and Pre-processing"
   ]
  },
  {
   "cell_type": "code",
   "execution_count": null,
   "metadata": {},
   "outputs": [
    {
     "name": "stdout",
     "output_type": "stream",
     "text": [
      "Number of Columns: 12 , Number of Rows: 1236\n"
     ]
    },
    {
     "data": {
      "text/html": [
       "<div>\n",
       "<style scoped>\n",
       "    .dataframe tbody tr th:only-of-type {\n",
       "        vertical-align: middle;\n",
       "    }\n",
       "\n",
       "    .dataframe tbody tr th {\n",
       "        vertical-align: top;\n",
       "    }\n",
       "\n",
       "    .dataframe thead th {\n",
       "        text-align: right;\n",
       "    }\n",
       "</style>\n",
       "<table border=\"1\" class=\"dataframe\">\n",
       "  <thead>\n",
       "    <tr style=\"text-align: right;\">\n",
       "      <th></th>\n",
       "      <th>Feed B</th>\n",
       "      <th>Feed S</th>\n",
       "      <th>Feed K</th>\n",
       "      <th>Feed i</th>\n",
       "      <th>Feed O</th>\n",
       "      <th>Feed N</th>\n",
       "      <th>C1 RR</th>\n",
       "      <th>C1</th>\n",
       "      <th>NGL RR</th>\n",
       "      <th>NGL</th>\n",
       "      <th>Sulphur RR</th>\n",
       "      <th>Sulphur</th>\n",
       "    </tr>\n",
       "  </thead>\n",
       "  <tbody>\n",
       "    <tr>\n",
       "      <th>1</th>\n",
       "      <td>299</td>\n",
       "      <td>178</td>\n",
       "      <td>73</td>\n",
       "      <td>797</td>\n",
       "      <td>139</td>\n",
       "      <td>114</td>\n",
       "      <td>1.0</td>\n",
       "      <td>1211</td>\n",
       "      <td>0.95</td>\n",
       "      <td>9494</td>\n",
       "      <td>1.0</td>\n",
       "      <td>2658</td>\n",
       "    </tr>\n",
       "    <tr>\n",
       "      <th>2</th>\n",
       "      <td>299</td>\n",
       "      <td>183</td>\n",
       "      <td>69</td>\n",
       "      <td>758</td>\n",
       "      <td>139</td>\n",
       "      <td>134</td>\n",
       "      <td>1.0</td>\n",
       "      <td>1202</td>\n",
       "      <td>0.95</td>\n",
       "      <td>9687</td>\n",
       "      <td>1.0</td>\n",
       "      <td>2395</td>\n",
       "    </tr>\n",
       "    <tr>\n",
       "      <th>3</th>\n",
       "      <td>299</td>\n",
       "      <td>184</td>\n",
       "      <td>86</td>\n",
       "      <td>769</td>\n",
       "      <td>179</td>\n",
       "      <td>115</td>\n",
       "      <td>1.0</td>\n",
       "      <td>1198</td>\n",
       "      <td>0.95</td>\n",
       "      <td>9742</td>\n",
       "      <td>1.0</td>\n",
       "      <td>2344</td>\n",
       "    </tr>\n",
       "    <tr>\n",
       "      <th>4</th>\n",
       "      <td>299</td>\n",
       "      <td>186</td>\n",
       "      <td>69</td>\n",
       "      <td>749</td>\n",
       "      <td>199</td>\n",
       "      <td>117</td>\n",
       "      <td>1.0</td>\n",
       "      <td>1191</td>\n",
       "      <td>0.95</td>\n",
       "      <td>10048</td>\n",
       "      <td>1.0</td>\n",
       "      <td>2409</td>\n",
       "    </tr>\n",
       "    <tr>\n",
       "      <th>5</th>\n",
       "      <td>299</td>\n",
       "      <td>185</td>\n",
       "      <td>76</td>\n",
       "      <td>667</td>\n",
       "      <td>197</td>\n",
       "      <td>122</td>\n",
       "      <td>1.0</td>\n",
       "      <td>1185</td>\n",
       "      <td>0.95</td>\n",
       "      <td>10053</td>\n",
       "      <td>1.0</td>\n",
       "      <td>2311</td>\n",
       "    </tr>\n",
       "  </tbody>\n",
       "</table>\n",
       "</div>"
      ],
      "text/plain": [
       "  Feed B Feed S Feed K Feed i Feed O  Feed N  C1 RR    C1  NGL RR    NGL  \\\n",
       "1    299    178     73    797     139    114    1.0  1211    0.95   9494   \n",
       "2    299    183     69    758     139    134    1.0  1202    0.95   9687   \n",
       "3    299    184     86    769     179    115    1.0  1198    0.95   9742   \n",
       "4    299    186     69    749     199    117    1.0  1191    0.95  10048   \n",
       "5    299    185     76    667     197    122    1.0  1185    0.95  10053   \n",
       "\n",
       "   Sulphur RR Sulphur  \n",
       "1         1.0    2658  \n",
       "2         1.0    2395  \n",
       "3         1.0    2344  \n",
       "4         1.0    2409  \n",
       "5         1.0    2311  "
      ]
     },
     "execution_count": 40,
     "metadata": {},
     "output_type": "execute_result"
    }
   ],
   "source": [
    "# Uploading data and observing basic information\n",
    "df_y = pd.read_excel(data_file, sheet_name='Plant Y', skiprows=1)\n",
    "\n",
    "df_y.drop(index=df_y.index[0], inplace=True)\n",
    "df_y.drop(columns=['Date'], inplace=True)\n",
    "\n",
    "rows, cols = df_y.shape\n",
    "reaction_rates = [col for col in df_y.columns if \" RR\" in col]\n",
    "\n",
    "print(\"Number of Columns:\", cols, \", Number of Rows:\", rows)\n",
    "df_y.head()"
   ]
  },
  {
   "cell_type": "code",
   "execution_count": null,
   "metadata": {},
   "outputs": [],
   "source": [
    "# Give assumption of fully optimized outputs\n",
    "for rate in reaction_rates:\n",
    "    df_y[rate[:-3]] = df_y[rate[:-3]] / df_y[rate]"
   ]
  },
  {
   "cell_type": "code",
   "execution_count": null,
   "metadata": {},
   "outputs": [],
   "source": [
    "# data pre-processing\n",
    "cols = list(set(df_y.columns) - set(reaction_rates))\n",
    "df = df_y.copy()\n",
    "\n",
    "df = utils.rm_zeros(df, cols)\n",
    "df = utils.rm_outliers(df, n_neighbors=10, contamination=0.05)\n",
    "\n",
    "df = df[cols] * 1.0\n",
    "\n",
    "for i in cols:\n",
    "    df[i] = pd.to_numeric(df[i], errors='coerce')"
   ]
  },
  {
   "cell_type": "code",
   "execution_count": null,
   "metadata": {},
   "outputs": [],
   "source": [
    "df.to_excel('data/processed_y.xlsx', index=False)"
   ]
  },
  {
   "cell_type": "code",
   "execution_count": null,
   "metadata": {},
   "outputs": [
    {
     "data": {
      "text/html": [
       "<div>\n",
       "<style scoped>\n",
       "    .dataframe tbody tr th:only-of-type {\n",
       "        vertical-align: middle;\n",
       "    }\n",
       "\n",
       "    .dataframe tbody tr th {\n",
       "        vertical-align: top;\n",
       "    }\n",
       "\n",
       "    .dataframe thead th {\n",
       "        text-align: right;\n",
       "    }\n",
       "</style>\n",
       "<table border=\"1\" class=\"dataframe\">\n",
       "  <thead>\n",
       "    <tr style=\"text-align: right;\">\n",
       "      <th></th>\n",
       "      <th>Feed i</th>\n",
       "      <th>Feed B</th>\n",
       "      <th>C1</th>\n",
       "      <th>Feed K</th>\n",
       "      <th>Feed O</th>\n",
       "      <th>Sulphur</th>\n",
       "      <th>Feed S</th>\n",
       "      <th>NGL</th>\n",
       "      <th>Feed N</th>\n",
       "    </tr>\n",
       "  </thead>\n",
       "  <tbody>\n",
       "    <tr>\n",
       "      <th>1</th>\n",
       "      <td>797.0</td>\n",
       "      <td>299.0</td>\n",
       "      <td>1211.0</td>\n",
       "      <td>73.0</td>\n",
       "      <td>139.0</td>\n",
       "      <td>2658.0</td>\n",
       "      <td>178.0</td>\n",
       "      <td>9993.684211</td>\n",
       "      <td>114.0</td>\n",
       "    </tr>\n",
       "    <tr>\n",
       "      <th>2</th>\n",
       "      <td>758.0</td>\n",
       "      <td>299.0</td>\n",
       "      <td>1202.0</td>\n",
       "      <td>69.0</td>\n",
       "      <td>139.0</td>\n",
       "      <td>2395.0</td>\n",
       "      <td>183.0</td>\n",
       "      <td>10196.842105</td>\n",
       "      <td>134.0</td>\n",
       "    </tr>\n",
       "    <tr>\n",
       "      <th>3</th>\n",
       "      <td>769.0</td>\n",
       "      <td>299.0</td>\n",
       "      <td>1198.0</td>\n",
       "      <td>86.0</td>\n",
       "      <td>179.0</td>\n",
       "      <td>2344.0</td>\n",
       "      <td>184.0</td>\n",
       "      <td>10254.736842</td>\n",
       "      <td>115.0</td>\n",
       "    </tr>\n",
       "    <tr>\n",
       "      <th>4</th>\n",
       "      <td>749.0</td>\n",
       "      <td>299.0</td>\n",
       "      <td>1191.0</td>\n",
       "      <td>69.0</td>\n",
       "      <td>199.0</td>\n",
       "      <td>2409.0</td>\n",
       "      <td>186.0</td>\n",
       "      <td>10576.842105</td>\n",
       "      <td>117.0</td>\n",
       "    </tr>\n",
       "    <tr>\n",
       "      <th>5</th>\n",
       "      <td>667.0</td>\n",
       "      <td>299.0</td>\n",
       "      <td>1185.0</td>\n",
       "      <td>76.0</td>\n",
       "      <td>197.0</td>\n",
       "      <td>2311.0</td>\n",
       "      <td>185.0</td>\n",
       "      <td>10582.105263</td>\n",
       "      <td>122.0</td>\n",
       "    </tr>\n",
       "  </tbody>\n",
       "</table>\n",
       "</div>"
      ],
      "text/plain": [
       "   Feed i  Feed B      C1  Feed K  Feed O   Sulphur  Feed S           NGL  \\\n",
       "1   797.0   299.0  1211.0    73.0    139.0   2658.0   178.0   9993.684211   \n",
       "2   758.0   299.0  1202.0    69.0    139.0   2395.0   183.0  10196.842105   \n",
       "3   769.0   299.0  1198.0    86.0    179.0   2344.0   184.0  10254.736842   \n",
       "4   749.0   299.0  1191.0    69.0    199.0   2409.0   186.0  10576.842105   \n",
       "5   667.0   299.0  1185.0    76.0    197.0   2311.0   185.0  10582.105263   \n",
       "\n",
       "   Feed N  \n",
       "1   114.0  \n",
       "2   134.0  \n",
       "3   115.0  \n",
       "4   117.0  \n",
       "5   122.0  "
      ]
     },
     "execution_count": 44,
     "metadata": {},
     "output_type": "execute_result"
    }
   ],
   "source": [
    "df.head()"
   ]
  },
  {
   "cell_type": "markdown",
   "metadata": {},
   "source": [
    "### Predict with Regression"
   ]
  },
  {
   "cell_type": "code",
   "execution_count": null,
   "metadata": {},
   "outputs": [
    {
     "name": "stdout",
     "output_type": "stream",
     "text": [
      "===================== Results =====================\n",
      "output Streams = C1\n",
      "                          R2 Score          MSE       RMSE        MAE  \\\n",
      "Linear Regression         0.241330  6713.834163  81.937990  53.143880   \n",
      "Decision Tree             0.403379  5279.789474  72.662160  39.730994   \n",
      "Random Forest             0.535877  4107.248963  64.087822  32.782865   \n",
      "Support Vector Regressor  0.114696  7834.483720  88.512619  53.508432   \n",
      "\n",
      "                             CMAPE  \n",
      "Linear Regression         0.945459  \n",
      "Decision Tree             0.958964  \n",
      "Random Forest             0.965050  \n",
      "Support Vector Regressor  0.943918   \n",
      "\n",
      "===================== Results =====================\n",
      "output Streams = NGL\n",
      "                          R2 Score           MSE         RMSE          MAE  \\\n",
      "Linear Regression         0.547594  1.010900e+06  1005.435290   682.437121   \n",
      "Decision Tree             0.605846  8.807366e+05   938.475697   595.426285   \n",
      "Random Forest             0.751119  5.561236e+05   745.736948   450.498246   \n",
      "Support Vector Regressor -0.033159  2.308592e+06  1519.405167  1081.293740   \n",
      "\n",
      "                             CMAPE  \n",
      "Linear Regression         0.937011  \n",
      "Decision Tree             0.947246  \n",
      "Random Forest             0.958255  \n",
      "Support Vector Regressor  0.898593   \n",
      "\n",
      "===================== Results =====================\n",
      "output Streams = Sulphur\n",
      "                          R2 Score            MSE        RMSE         MAE  \\\n",
      "Linear Regression         0.418824  114481.171494  338.350664  258.361354   \n",
      "Decision Tree             0.195096  158551.649123  398.185446  281.064327   \n",
      "Random Forest             0.535996   91400.458468  302.325087  203.909298   \n",
      "Support Vector Regressor  0.113382  174647.687989  417.908708  322.597565   \n",
      "\n",
      "                             CMAPE  \n",
      "Linear Regression         0.852164  \n",
      "Decision Tree             0.836014  \n",
      "Random Forest             0.873284  \n",
      "Support Vector Regressor  0.809729   \n",
      "\n"
     ]
    }
   ],
   "source": [
    "cols = ['Feed B', 'Feed S','Feed K','Feed i','Feed O ','Feed N']\n",
    "C1_models_y , C1_results_y = utils.evaluate_models(df,['C1'], cols)\n",
    "NGL_models_y , NGL_results_y = utils.evaluate_models(df,['NGL'], cols)\n",
    "\n",
    "cols = ['Feed B', 'Feed S','Feed i','Feed O ', 'Feed N']\n",
    "Sulphur_models_y , Sulphur_results_y = utils.evaluate_models(df,['Sulphur'],cols)"
   ]
  },
  {
   "cell_type": "code",
   "execution_count": null,
   "metadata": {},
   "outputs": [
    {
     "name": "stdout",
     "output_type": "stream",
     "text": [
      "===================== Results =====================\n",
      "output Streams = C1, NGL, Sulphur\n",
      "                          R2 Score            MSE        RMSE         MAE  \\\n",
      "Linear Regression         0.402799  377322.393320  614.265735  331.390547   \n",
      "Decision Tree             0.386583  328619.951839  573.253828  299.041038   \n",
      "Random Forest             0.610645  215137.440901  463.829107  229.572363   \n",
      "Support Vector Regressor  0.061735  830995.837160  911.589731  486.458536   \n",
      "\n",
      "                             CMAPE  \n",
      "Linear Regression         0.911435  \n",
      "Decision Tree             0.914561  \n",
      "Random Forest             0.932641  \n",
      "Support Vector Regressor  0.883715   \n",
      "\n"
     ]
    }
   ],
   "source": [
    "cols = ['Feed B', 'Feed S','Feed K','Feed i','Feed O ', 'Feed N']\n",
    "out = ['C1', 'NGL', 'Sulphur']\n",
    "all_models_y , all_results_y = utils.evaluate_models(df,out,cols)"
   ]
  },
  {
   "cell_type": "markdown",
   "metadata": {},
   "source": [
    "### Neural Network"
   ]
  },
  {
   "cell_type": "code",
   "execution_count": null,
   "metadata": {},
   "outputs": [
    {
     "name": "stdout",
     "output_type": "stream",
     "text": [
      "\n",
      "Fold 1/5\n",
      "Epoch [200/2000], Training Loss: 19939312.0000, Validation Loss: 19769678.0000, CMAPE: 60.99%, R²: 0.2501\n",
      "Epoch [400/2000], Training Loss: 929873.3125, Validation Loss: 1194377.6250, CMAPE: 86.02%, R²: 0.9547\n",
      "Epoch [600/2000], Training Loss: 815948.3125, Validation Loss: 1052435.2500, CMAPE: 86.24%, R²: 0.9601\n",
      "Epoch [800/2000], Training Loss: 712011.1875, Validation Loss: 921027.2500, CMAPE: 86.41%, R²: 0.9651\n",
      "Epoch [1000/2000], Training Loss: 625963.3750, Validation Loss: 810075.6250, CMAPE: 86.51%, R²: 0.9693\n",
      "Epoch [1200/2000], Training Loss: 559963.0625, Validation Loss: 722847.6250, CMAPE: 86.53%, R²: 0.9726\n",
      "Epoch [1400/2000], Training Loss: 512282.5625, Validation Loss: 658103.1250, CMAPE: 86.52%, R²: 0.9750\n",
      "Epoch [1600/2000], Training Loss: 478982.4688, Validation Loss: 611913.1875, CMAPE: 86.51%, R²: 0.9768\n",
      "Epoch [1800/2000], Training Loss: 455523.8750, Validation Loss: 579371.4375, CMAPE: 86.53%, R²: 0.9780\n",
      "Epoch [2000/2000], Training Loss: 438035.4688, Validation Loss: 555974.5000, CMAPE: 86.57%, R²: 0.9789\n",
      "Fold 1 Validation Loss: 555974.5000, CMAPE: 86.57%, R²: 0.9789\n",
      "\n",
      "Fold 2/5\n",
      "Epoch [200/2000], Training Loss: 11899079.0000, Validation Loss: 11337631.0000, CMAPE: 68.95%, R²: 0.5625\n",
      "Epoch [400/2000], Training Loss: 1068514.0000, Validation Loss: 944604.3125, CMAPE: 87.24%, R²: 0.9635\n",
      "Epoch [600/2000], Training Loss: 873749.8125, Validation Loss: 767882.4375, CMAPE: 87.59%, R²: 0.9704\n",
      "Epoch [800/2000], Training Loss: 716920.5625, Validation Loss: 629827.9375, CMAPE: 87.79%, R²: 0.9757\n",
      "Epoch [1000/2000], Training Loss: 606558.9375, Validation Loss: 536775.6875, CMAPE: 87.82%, R²: 0.9793\n",
      "Epoch [1200/2000], Training Loss: 536842.1250, Validation Loss: 480925.1562, CMAPE: 87.84%, R²: 0.9814\n",
      "Epoch [1400/2000], Training Loss: 493972.1875, Validation Loss: 447418.2188, CMAPE: 87.91%, R²: 0.9827\n",
      "Epoch [1600/2000], Training Loss: 464793.5000, Validation Loss: 423465.6562, CMAPE: 88.08%, R²: 0.9837\n",
      "Epoch [1800/2000], Training Loss: 441770.3750, Validation Loss: 402927.1250, CMAPE: 88.32%, R²: 0.9845\n",
      "Epoch [2000/2000], Training Loss: 421992.7188, Validation Loss: 384435.9375, CMAPE: 88.62%, R²: 0.9852\n",
      "Fold 2 Validation Loss: 384435.9375, CMAPE: 88.62%, R²: 0.9852\n",
      "\n",
      "Fold 3/5\n",
      "Epoch [200/2000], Training Loss: 11349261.0000, Validation Loss: 10965944.0000, CMAPE: 60.84%, R²: 0.5816\n",
      "Epoch [400/2000], Training Loss: 555896.4375, Validation Loss: 530625.1250, CMAPE: 87.64%, R²: 0.9798\n",
      "Epoch [600/2000], Training Loss: 531840.1875, Validation Loss: 505746.5312, CMAPE: 87.70%, R²: 0.9807\n",
      "Epoch [800/2000], Training Loss: 508931.4062, Validation Loss: 482690.3125, CMAPE: 87.79%, R²: 0.9816\n",
      "Epoch [1000/2000], Training Loss: 487987.8750, Validation Loss: 462394.0625, CMAPE: 87.91%, R²: 0.9824\n",
      "Epoch [1200/2000], Training Loss: 468981.4062, Validation Loss: 444748.3750, CMAPE: 88.06%, R²: 0.9830\n",
      "Epoch [1400/2000], Training Loss: 451710.9062, Validation Loss: 429339.9375, CMAPE: 88.24%, R²: 0.9836\n",
      "Epoch [1600/2000], Training Loss: 436056.9375, Validation Loss: 415784.8438, CMAPE: 88.45%, R²: 0.9841\n",
      "Epoch [1800/2000], Training Loss: 421963.5625, Validation Loss: 403780.7500, CMAPE: 88.67%, R²: 0.9846\n",
      "Epoch [2000/2000], Training Loss: 409343.0625, Validation Loss: 393054.9062, CMAPE: 88.92%, R²: 0.9850\n",
      "Fold 3 Validation Loss: 393054.9062, CMAPE: 88.92%, R²: 0.9850\n",
      "\n",
      "Fold 4/5\n",
      "Epoch [200/2000], Training Loss: 11925829.0000, Validation Loss: 11727145.0000, CMAPE: 69.56%, R²: 0.5542\n",
      "Epoch [400/2000], Training Loss: 823185.9375, Validation Loss: 770126.4375, CMAPE: 86.91%, R²: 0.9707\n",
      "Epoch [600/2000], Training Loss: 731020.0000, Validation Loss: 688153.6250, CMAPE: 87.03%, R²: 0.9738\n",
      "Epoch [800/2000], Training Loss: 656097.3750, Validation Loss: 621253.0000, CMAPE: 87.09%, R²: 0.9764\n",
      "Epoch [1000/2000], Training Loss: 599695.6875, Validation Loss: 570105.2500, CMAPE: 87.13%, R²: 0.9783\n",
      "Epoch [1200/2000], Training Loss: 557783.9375, Validation Loss: 530813.4375, CMAPE: 87.22%, R²: 0.9798\n",
      "Epoch [1400/2000], Training Loss: 525262.5625, Validation Loss: 498777.2188, CMAPE: 87.36%, R²: 0.9810\n",
      "Epoch [1600/2000], Training Loss: 498260.3750, Validation Loss: 470733.2188, CMAPE: 87.56%, R²: 0.9821\n",
      "Epoch [1800/2000], Training Loss: 474629.1562, Validation Loss: 445095.6250, CMAPE: 87.80%, R²: 0.9831\n",
      "Epoch [2000/2000], Training Loss: 453443.3750, Validation Loss: 421391.7812, CMAPE: 88.08%, R²: 0.9840\n",
      "Fold 4 Validation Loss: 421391.7812, CMAPE: 88.08%, R²: 0.9840\n",
      "\n",
      "Fold 5/5\n",
      "Epoch [200/2000], Training Loss: 16533313.0000, Validation Loss: 16458569.0000, CMAPE: 65.73%, R²: 0.3755\n",
      "Epoch [400/2000], Training Loss: 616799.3125, Validation Loss: 601450.0000, CMAPE: 87.03%, R²: 0.9772\n",
      "Epoch [600/2000], Training Loss: 592949.9375, Validation Loss: 583894.2500, CMAPE: 87.06%, R²: 0.9778\n",
      "Epoch [800/2000], Training Loss: 569691.9375, Validation Loss: 566830.8125, CMAPE: 87.10%, R²: 0.9785\n",
      "Epoch [1000/2000], Training Loss: 548169.7500, Validation Loss: 551023.0625, CMAPE: 87.16%, R²: 0.9791\n",
      "Epoch [1200/2000], Training Loss: 528514.0000, Validation Loss: 536326.5000, CMAPE: 87.23%, R²: 0.9796\n",
      "Epoch [1400/2000], Training Loss: 510405.2500, Validation Loss: 522318.5625, CMAPE: 87.33%, R²: 0.9802\n",
      "Epoch [1600/2000], Training Loss: 493465.7812, Validation Loss: 508634.7500, CMAPE: 87.44%, R²: 0.9807\n",
      "Epoch [1800/2000], Training Loss: 477430.3438, Validation Loss: 495088.6875, CMAPE: 87.57%, R²: 0.9812\n",
      "Epoch [2000/2000], Training Loss: 462149.8750, Validation Loss: 481636.0625, CMAPE: 87.73%, R²: 0.9817\n",
      "Fold 5 Validation Loss: 481636.0625, CMAPE: 87.73%, R²: 0.9817\n",
      "\n",
      "Average Validation Loss: 447298.6375, Average CMAPE: 87.98%, Average R²: 0.9830\n"
     ]
    },
    {
     "data": {
      "image/png": "[encoded data removed]",
      "text/plain": [
       "<Figure size 1000x600 with 1 Axes>"
      ]
     },
     "metadata": {},
     "output_type": "display_data"
    }
   ],
   "source": [
    "input = ['Feed B', 'Feed S','Feed K','Feed i','Feed O ', 'Feed N']\n",
    "output = ['C1', 'NGL', 'Sulphur']\n",
    "hidden_sizes = [16,16]\n",
    "\n",
    "fnn_y, criterion, optimizer = utils.makeNN(input, output, hidden_sizes,df)\n",
    "models, fold_results, trainLoss, valLoss = utils.trainKfolds(fnn_y, criterion, optimizer, epochs=2000, n_splits=5)\n",
    "\n",
    "utils.loss_plot(trainLoss, valLoss)"
   ]
  },
  {
   "cell_type": "code",
   "execution_count": null,
   "metadata": {},
   "outputs": [
    {
     "name": "stdout",
     "output_type": "stream",
     "text": [
      "LinearRegression()\n",
      "LinearRegression()\n",
      "LinearRegression()\n"
     ]
    }
   ],
   "source": [
    "coefficients_y, biases_y = utils.parameter_extractor(all_models_y['Linear Regression'],['C1','NGL', 'Sulphur'])"
   ]
  },
  {
   "cell_type": "code",
   "execution_count": null,
   "metadata": {},
   "outputs": [
    {
     "name": "stdout",
     "output_type": "stream",
     "text": [
      "\n",
      "Fold 1/5\n",
      "Epoch [200/2000], Training Loss: 323576.1875, Validation Loss: 459860.6562, CMAPE: 87.32%, R²: 0.9826\n",
      "Epoch [400/2000], Training Loss: 321030.9375, Validation Loss: 451618.0312, CMAPE: 87.29%, R²: 0.9829\n",
      "Epoch [600/2000], Training Loss: 320281.6562, Validation Loss: 450513.0625, CMAPE: 87.29%, R²: 0.9829\n",
      "Epoch [800/2000], Training Loss: 319419.6562, Validation Loss: 449233.9062, CMAPE: 87.30%, R²: 0.9830\n",
      "Epoch [1000/2000], Training Loss: 318479.1250, Validation Loss: 447829.7812, CMAPE: 87.31%, R²: 0.9830\n",
      "Epoch [1200/2000], Training Loss: 317484.9375, Validation Loss: 446335.7500, CMAPE: 87.32%, R²: 0.9831\n",
      "Epoch [1400/2000], Training Loss: 316453.0625, Validation Loss: 444777.5938, CMAPE: 87.34%, R²: 0.9831\n",
      "Epoch [1600/2000], Training Loss: 315390.0938, Validation Loss: 443170.0000, CMAPE: 87.36%, R²: 0.9832\n",
      "Epoch [1800/2000], Training Loss: 314291.9062, Validation Loss: 441513.7812, CMAPE: 87.40%, R²: 0.9833\n",
      "Epoch [2000/2000], Training Loss: 313141.0938, Validation Loss: 439794.9062, CMAPE: 87.44%, R²: 0.9833\n",
      "Fold 1 Validation Loss: 439794.9062, CMAPE: 87.44%, R²: 0.9833\n",
      "\n",
      "Fold 2/5\n",
      "Epoch [200/2000], Training Loss: 342541.8750, Validation Loss: 325556.0938, CMAPE: 89.58%, R²: 0.9874\n",
      "Epoch [400/2000], Training Loss: 340896.0000, Validation Loss: 325050.2812, CMAPE: 89.64%, R²: 0.9875\n",
      "Epoch [600/2000], Training Loss: 338743.1562, Validation Loss: 323896.1250, CMAPE: 89.72%, R²: 0.9875\n",
      "Epoch [800/2000], Training Loss: 335890.5625, Validation Loss: 322285.3125, CMAPE: 89.85%, R²: 0.9876\n",
      "Epoch [1000/2000], Training Loss: 332099.9062, Validation Loss: 320013.1562, CMAPE: 90.03%, R²: 0.9877\n",
      "Epoch [1200/2000], Training Loss: 326950.0938, Validation Loss: 316754.7812, CMAPE: 90.31%, R²: 0.9878\n",
      "Epoch [1400/2000], Training Loss: 319920.5000, Validation Loss: 312177.6875, CMAPE: 90.71%, R²: 0.9880\n",
      "Epoch [1600/2000], Training Loss: 310961.5938, Validation Loss: 306489.2812, CMAPE: 91.14%, R²: 0.9882\n",
      "Epoch [1800/2000], Training Loss: 301655.9688, Validation Loss: 301338.3750, CMAPE: 91.45%, R²: 0.9884\n",
      "Epoch [2000/2000], Training Loss: 294891.8438, Validation Loss: 299018.3750, CMAPE: 91.64%, R²: 0.9885\n",
      "Fold 2 Validation Loss: 299018.3750, CMAPE: 91.64%, R²: 0.9885\n",
      "\n",
      "Fold 3/5\n",
      "Epoch [200/2000], Training Loss: 337278.1562, Validation Loss: 342004.6250, CMAPE: 90.68%, R²: 0.9870\n",
      "Epoch [400/2000], Training Loss: 334433.5625, Validation Loss: 338727.6875, CMAPE: 90.80%, R²: 0.9871\n",
      "Epoch [600/2000], Training Loss: 330579.0312, Validation Loss: 334249.6562, CMAPE: 90.99%, R²: 0.9872\n",
      "Epoch [800/2000], Training Loss: 325687.3438, Validation Loss: 328533.8438, CMAPE: 91.24%, R²: 0.9875\n",
      "Epoch [1000/2000], Training Loss: 319679.1562, Validation Loss: 321447.3750, CMAPE: 91.57%, R²: 0.9877\n",
      "Epoch [1200/2000], Training Loss: 312722.6562, Validation Loss: 313068.3750, CMAPE: 91.95%, R²: 0.9881\n",
      "Epoch [1400/2000], Training Loss: 305607.4375, Validation Loss: 304201.7812, CMAPE: 92.33%, R²: 0.9884\n",
      "Epoch [1600/2000], Training Loss: 299867.2188, Validation Loss: 296360.4062, CMAPE: 92.62%, R²: 0.9887\n",
      "Epoch [1800/2000], Training Loss: 296517.4688, Validation Loss: 291005.3125, CMAPE: 92.75%, R²: 0.9889\n",
      "Epoch [2000/2000], Training Loss: 295021.7188, Validation Loss: 287879.2188, CMAPE: 92.79%, R²: 0.9890\n",
      "Fold 3 Validation Loss: 287879.2188, CMAPE: 92.79%, R²: 0.9890\n",
      "\n",
      "Fold 4/5\n",
      "Epoch [200/2000], Training Loss: 380651.1875, Validation Loss: 302298.7812, CMAPE: 88.37%, R²: 0.9885\n",
      "Epoch [400/2000], Training Loss: 354307.5312, Validation Loss: 270303.0625, CMAPE: 88.84%, R²: 0.9897\n",
      "Epoch [600/2000], Training Loss: 354079.5000, Validation Loss: 270097.7188, CMAPE: 88.88%, R²: 0.9897\n",
      "Epoch [800/2000], Training Loss: 353785.5625, Validation Loss: 269834.5000, CMAPE: 88.92%, R²: 0.9897\n",
      "Epoch [1000/2000], Training Loss: 353432.0938, Validation Loss: 269514.5625, CMAPE: 88.98%, R²: 0.9898\n",
      "Epoch [1200/2000], Training Loss: 353002.3750, Validation Loss: 269112.5625, CMAPE: 89.05%, R²: 0.9898\n",
      "Epoch [1400/2000], Training Loss: 352456.6250, Validation Loss: 268537.7812, CMAPE: 89.13%, R²: 0.9898\n",
      "Epoch [1600/2000], Training Loss: 351410.4062, Validation Loss: 267077.0625, CMAPE: 89.29%, R²: 0.9898\n",
      "Epoch [1800/2000], Training Loss: 349884.7188, Validation Loss: 265556.5938, CMAPE: 89.52%, R²: 0.9899\n",
      "Epoch [2000/2000], Training Loss: 348115.1562, Validation Loss: 263828.2812, CMAPE: 89.78%, R²: 0.9900\n",
      "Fold 4 Validation Loss: 263828.2812, CMAPE: 89.78%, R²: 0.9900\n",
      "\n",
      "Fold 5/5\n",
      "Epoch [200/2000], Training Loss: 344566.9062, Validation Loss: 324148.9062, CMAPE: 90.70%, R²: 0.9877\n",
      "Epoch [400/2000], Training Loss: 337679.2500, Validation Loss: 318117.5000, CMAPE: 91.05%, R²: 0.9879\n",
      "Epoch [600/2000], Training Loss: 329713.7812, Validation Loss: 310776.4688, CMAPE: 91.30%, R²: 0.9882\n",
      "Epoch [800/2000], Training Loss: 321057.1250, Validation Loss: 303009.2500, CMAPE: 91.50%, R²: 0.9885\n",
      "Epoch [1000/2000], Training Loss: 312946.7812, Validation Loss: 295916.3125, CMAPE: 91.65%, R²: 0.9888\n",
      "Epoch [1200/2000], Training Loss: 306861.2188, Validation Loss: 290561.8125, CMAPE: 91.71%, R²: 0.9890\n",
      "Epoch [1400/2000], Training Loss: 302731.2812, Validation Loss: 286620.7500, CMAPE: 91.74%, R²: 0.9891\n",
      "Epoch [1600/2000], Training Loss: 299889.1562, Validation Loss: 283593.4688, CMAPE: 91.76%, R²: 0.9892\n",
      "Epoch [1800/2000], Training Loss: 297992.9062, Validation Loss: 281366.6875, CMAPE: 91.77%, R²: 0.9893\n",
      "Epoch [2000/2000], Training Loss: 296829.9062, Validation Loss: 279866.7812, CMAPE: 91.80%, R²: 0.9894\n",
      "Fold 5 Validation Loss: 279866.7812, CMAPE: 91.80%, R²: 0.9894\n",
      "\n",
      "Average Validation Loss: 314077.5125, Average CMAPE: 90.69%, Average R²: 0.9880\n"
     ]
    },
    {
     "data": {
      "image/png": "[encoded data removed]",
      "text/plain": [
       "<Figure size 1000x600 with 1 Axes>"
      ]
     },
     "metadata": {},
     "output_type": "display_data"
    }
   ],
   "source": [
    "input = ['Feed B', 'Feed S','Feed K','Feed i','Feed O ', 'Feed N']\n",
    "output = ['C1', 'NGL', 'Sulphur']\n",
    "hidden_sizes = [3,16,16]\n",
    "\n",
    "fnn_y, criterion, optimizer = utils.makeNN(input, output, hidden_sizes,df,coefficients=coefficients_y , biases=biases_y)\n",
    "models_s, fold_results_s, trainLoss_S, valLoss_S = utils.trainKfolds(fnn_y, criterion, optimizer, epochs=2000, n_splits=5)\n",
    "\n",
    "utils.loss_plot(trainLoss_S, valLoss_S)"
   ]
  },
  {
   "cell_type": "code",
   "execution_count": null,
   "metadata": {},
   "outputs": [
    {
     "name": "stdout",
     "output_type": "stream",
     "text": [
      "\n",
      "Fold 1/5\n",
      "Epoch [200/2000], Training Loss: 911064.0000, Validation Loss: 1152272.0000, CMAPE: 84.56%, R²: 0.9563\n",
      "Epoch [400/2000], Training Loss: 761698.5000, Validation Loss: 950723.7500, CMAPE: 85.20%, R²: 0.9639\n",
      "Epoch [600/2000], Training Loss: 651540.1250, Validation Loss: 807131.8125, CMAPE: 85.31%, R²: 0.9694\n",
      "Epoch [800/2000], Training Loss: 577005.1875, Validation Loss: 709102.2500, CMAPE: 85.39%, R²: 0.9731\n",
      "Epoch [1000/2000], Training Loss: 526316.5000, Validation Loss: 644674.2500, CMAPE: 85.50%, R²: 0.9755\n",
      "Epoch [1200/2000], Training Loss: 488444.3125, Validation Loss: 600408.8125, CMAPE: 85.65%, R²: 0.9772\n",
      "Epoch [1400/2000], Training Loss: 458048.9375, Validation Loss: 568072.8125, CMAPE: 85.83%, R²: 0.9785\n",
      "Epoch [1600/2000], Training Loss: 433369.5312, Validation Loss: 543592.3125, CMAPE: 86.01%, R²: 0.9794\n",
      "Epoch [1800/2000], Training Loss: 413669.2188, Validation Loss: 524759.8750, CMAPE: 86.13%, R²: 0.9801\n",
      "Epoch [2000/2000], Training Loss: 398238.6250, Validation Loss: 510047.9688, CMAPE: 86.24%, R²: 0.9807\n",
      "Fold 1 Validation Loss: 510047.9688, CMAPE: 86.24%, R²: 0.9807\n",
      "\n",
      "Fold 2/5\n",
      "Epoch [200/2000], Training Loss: 1285010.1250, Validation Loss: 1219350.6250, CMAPE: 74.44%, R²: 0.9529\n",
      "Epoch [400/2000], Training Loss: 701378.0000, Validation Loss: 675773.0625, CMAPE: 86.57%, R²: 0.9739\n",
      "Epoch [600/2000], Training Loss: 588938.1875, Validation Loss: 569661.7500, CMAPE: 86.61%, R²: 0.9780\n",
      "Epoch [800/2000], Training Loss: 503235.5938, Validation Loss: 480756.2188, CMAPE: 86.97%, R²: 0.9814\n",
      "Epoch [1000/2000], Training Loss: 433350.6562, Validation Loss: 399085.7188, CMAPE: 87.59%, R²: 0.9846\n",
      "Epoch [1200/2000], Training Loss: 393653.5000, Validation Loss: 357330.7188, CMAPE: 88.03%, R²: 0.9862\n",
      "Epoch [1400/2000], Training Loss: 377351.4688, Validation Loss: 346443.1250, CMAPE: 88.17%, R²: 0.9866\n",
      "Epoch [1600/2000], Training Loss: 372313.9062, Validation Loss: 346496.1250, CMAPE: 88.19%, R²: 0.9866\n",
      "Epoch [1800/2000], Training Loss: 370364.9688, Validation Loss: 347979.3438, CMAPE: 88.19%, R²: 0.9866\n",
      "Epoch [2000/2000], Training Loss: 369208.3125, Validation Loss: 348879.1562, CMAPE: 88.19%, R²: 0.9865\n",
      "Fold 2 Validation Loss: 348879.1562, CMAPE: 88.19%, R²: 0.9865\n",
      "\n",
      "Fold 3/5\n",
      "Epoch [200/2000], Training Loss: 5305485.5000, Validation Loss: 4910808.5000, CMAPE: 69.20%, R²: 0.8126\n",
      "Epoch [400/2000], Training Loss: 989818.0625, Validation Loss: 1003666.6875, CMAPE: 87.39%, R²: 0.9617\n",
      "Epoch [600/2000], Training Loss: 799678.5625, Validation Loss: 800377.3750, CMAPE: 87.86%, R²: 0.9695\n",
      "Epoch [800/2000], Training Loss: 663369.6250, Validation Loss: 653008.3125, CMAPE: 88.10%, R²: 0.9751\n",
      "Epoch [1000/2000], Training Loss: 576925.4375, Validation Loss: 558885.3750, CMAPE: 88.17%, R²: 0.9787\n",
      "Epoch [1200/2000], Training Loss: 524877.6875, Validation Loss: 502919.6562, CMAPE: 88.19%, R²: 0.9808\n",
      "Epoch [1400/2000], Training Loss: 491565.9375, Validation Loss: 468897.0312, CMAPE: 88.23%, R²: 0.9821\n",
      "Epoch [1600/2000], Training Loss: 467375.3750, Validation Loss: 446085.7812, CMAPE: 88.31%, R²: 0.9830\n",
      "Epoch [1800/2000], Training Loss: 448304.3125, Validation Loss: 429358.8438, CMAPE: 88.41%, R²: 0.9836\n",
      "Epoch [2000/2000], Training Loss: 432957.9375, Validation Loss: 416540.7812, CMAPE: 88.52%, R²: 0.9841\n",
      "Fold 3 Validation Loss: 416540.7812, CMAPE: 88.52%, R²: 0.9841\n",
      "\n",
      "Fold 4/5\n",
      "Epoch [200/2000], Training Loss: 832463.9375, Validation Loss: 763933.3750, CMAPE: 87.09%, R²: 0.9710\n",
      "Epoch [400/2000], Training Loss: 634360.1875, Validation Loss: 592796.7500, CMAPE: 87.16%, R²: 0.9775\n",
      "Epoch [600/2000], Training Loss: 546793.0625, Validation Loss: 516006.9375, CMAPE: 87.05%, R²: 0.9804\n",
      "Epoch [800/2000], Training Loss: 504586.2812, Validation Loss: 475613.7188, CMAPE: 87.06%, R²: 0.9819\n",
      "Epoch [1000/2000], Training Loss: 476618.7188, Validation Loss: 444930.3750, CMAPE: 87.20%, R²: 0.9831\n",
      "Epoch [1200/2000], Training Loss: 453756.8438, Validation Loss: 418039.5000, CMAPE: 87.37%, R²: 0.9841\n",
      "Epoch [1400/2000], Training Loss: 434835.4375, Validation Loss: 394862.5312, CMAPE: 87.54%, R²: 0.9850\n",
      "Epoch [1600/2000], Training Loss: 419453.5938, Validation Loss: 375296.9688, CMAPE: 87.68%, R²: 0.9857\n",
      "Epoch [1800/2000], Training Loss: 407095.1562, Validation Loss: 359075.6250, CMAPE: 87.81%, R²: 0.9863\n",
      "Epoch [2000/2000], Training Loss: 397231.7500, Validation Loss: 345808.4062, CMAPE: 87.93%, R²: 0.9869\n",
      "Fold 4 Validation Loss: 345808.4062, CMAPE: 87.93%, R²: 0.9869\n",
      "\n",
      "Fold 5/5\n",
      "Epoch [200/2000], Training Loss: 1410357.8750, Validation Loss: 1321670.5000, CMAPE: 86.27%, R²: 0.9498\n",
      "Epoch [400/2000], Training Loss: 674217.4375, Validation Loss: 669763.7500, CMAPE: 87.15%, R²: 0.9746\n",
      "Epoch [600/2000], Training Loss: 441635.0312, Validation Loss: 471953.1875, CMAPE: 87.29%, R²: 0.9821\n",
      "Epoch [800/2000], Training Loss: 384874.9688, Validation Loss: 407777.8125, CMAPE: 87.80%, R²: 0.9845\n",
      "Epoch [1000/2000], Training Loss: 364004.0000, Validation Loss: 377169.0938, CMAPE: 88.13%, R²: 0.9857\n",
      "Epoch [1200/2000], Training Loss: 356449.9062, Validation Loss: 366467.4688, CMAPE: 88.35%, R²: 0.9861\n",
      "Epoch [1400/2000], Training Loss: 349887.6250, Validation Loss: 359301.4688, CMAPE: 88.59%, R²: 0.9864\n",
      "Epoch [1600/2000], Training Loss: 343587.5625, Validation Loss: 352815.7812, CMAPE: 88.87%, R²: 0.9866\n",
      "Epoch [1800/2000], Training Loss: 336638.5000, Validation Loss: 345989.2812, CMAPE: 89.14%, R²: 0.9869\n",
      "Epoch [2000/2000], Training Loss: 329672.7500, Validation Loss: 339202.4688, CMAPE: 89.30%, R²: 0.9871\n",
      "Fold 5 Validation Loss: 339202.4688, CMAPE: 89.30%, R²: 0.9871\n",
      "\n",
      "Average Validation Loss: 392095.7562, Average CMAPE: 88.04%, Average R²: 0.9851\n"
     ]
    },
    {
     "data": {
      "image/png": "[encoded data removed]",
      "text/plain": [
       "<Figure size 1000x600 with 1 Axes>"
      ]
     },
     "metadata": {},
     "output_type": "display_data"
    }
   ],
   "source": [
    "input = ['Feed B', 'Feed S','Feed K','Feed i','Feed O ', 'Feed N']\n",
    "output = ['C1', 'NGL', 'Sulphur']\n",
    "hidden_sizes = [16,16,16]\n",
    "\n",
    "fnn_y, criterion, optimizer = utils.makeNN(input, output, hidden_sizes,df)\n",
    "models_c, fold_results_c, trainLoss_c, valLoss_c = utils.trainKfolds(fnn_y, criterion, optimizer, epochs=2000, n_splits=5)\n",
    "\n",
    "utils.loss_plot(trainLoss_c, valLoss_c)"
   ]
  },
  {
   "cell_type": "code",
   "execution_count": null,
   "metadata": {},
   "outputs": [
    {
     "name": "stdout",
     "output_type": "stream",
     "text": [
      "\n",
      "Fold 1/5\n",
      "Epoch [200/2000], Training Loss: 35320008.0000, Validation Loss: 35132888.0000, CMAPE: 50.69%, R²: -0.3326\n",
      "Epoch [400/2000], Training Loss: 11771830.0000, Validation Loss: 11699660.0000, CMAPE: 72.61%, R²: 0.5562\n",
      "Epoch [600/2000], Training Loss: 1990206.0000, Validation Loss: 2120132.7500, CMAPE: 83.68%, R²: 0.9196\n",
      "Epoch [800/2000], Training Loss: 903235.0000, Validation Loss: 1119565.6250, CMAPE: 85.31%, R²: 0.9575\n",
      "Epoch [1000/2000], Training Loss: 837043.4375, Validation Loss: 1059178.1250, CMAPE: 85.42%, R²: 0.9598\n",
      "Epoch [1200/2000], Training Loss: 795547.3125, Validation Loss: 1008254.5000, CMAPE: 85.56%, R²: 0.9618\n",
      "Epoch [1400/2000], Training Loss: 753816.5625, Validation Loss: 955273.0000, CMAPE: 85.72%, R²: 0.9638\n",
      "Epoch [1600/2000], Training Loss: 712707.2500, Validation Loss: 902670.4375, CMAPE: 85.88%, R²: 0.9658\n",
      "Epoch [1800/2000], Training Loss: 673095.0625, Validation Loss: 851632.1875, CMAPE: 86.06%, R²: 0.9677\n",
      "Epoch [2000/2000], Training Loss: 635653.4375, Validation Loss: 803044.2500, CMAPE: 86.24%, R²: 0.9695\n",
      "Fold 1 Validation Loss: 803044.2500, CMAPE: 86.24%, R²: 0.9695\n",
      "\n",
      "Fold 2/5\n",
      "Epoch [200/2000], Training Loss: 38273680.0000, Validation Loss: 37446932.0000, CMAPE: 46.82%, R²: -0.4451\n",
      "Epoch [400/2000], Training Loss: 14990541.0000, Validation Loss: 14590783.0000, CMAPE: 71.84%, R²: 0.4369\n",
      "Epoch [600/2000], Training Loss: 2813240.7500, Validation Loss: 2652651.0000, CMAPE: 84.12%, R²: 0.8976\n",
      "Epoch [800/2000], Training Loss: 944895.7500, Validation Loss: 813105.5625, CMAPE: 87.61%, R²: 0.9686\n",
      "Epoch [1000/2000], Training Loss: 837296.6875, Validation Loss: 706053.1250, CMAPE: 87.83%, R²: 0.9728\n",
      "Epoch [1200/2000], Training Loss: 796989.8750, Validation Loss: 670613.5000, CMAPE: 87.94%, R²: 0.9741\n",
      "Epoch [1400/2000], Training Loss: 756699.2500, Validation Loss: 636383.4375, CMAPE: 88.05%, R²: 0.9754\n",
      "Epoch [1600/2000], Training Loss: 716598.1250, Validation Loss: 602804.7500, CMAPE: 88.16%, R²: 0.9767\n",
      "Epoch [1800/2000], Training Loss: 677566.0625, Validation Loss: 570623.0000, CMAPE: 88.28%, R²: 0.9780\n",
      "Epoch [2000/2000], Training Loss: 640338.6875, Validation Loss: 540477.8750, CMAPE: 88.41%, R²: 0.9791\n",
      "Fold 2 Validation Loss: 540477.8750, CMAPE: 88.41%, R²: 0.9791\n",
      "\n",
      "Fold 3/5\n",
      "Epoch [200/2000], Training Loss: 41094924.0000, Validation Loss: 41233460.0000, CMAPE: 48.07%, R²: -0.5733\n",
      "Epoch [400/2000], Training Loss: 19538474.0000, Validation Loss: 19477712.0000, CMAPE: 69.07%, R²: 0.2568\n",
      "Epoch [600/2000], Training Loss: 4913709.0000, Validation Loss: 4849115.5000, CMAPE: 81.82%, R²: 0.8150\n",
      "Epoch [800/2000], Training Loss: 1114339.0000, Validation Loss: 1098008.6250, CMAPE: 87.63%, R²: 0.9581\n",
      "Epoch [1000/2000], Training Loss: 773774.0000, Validation Loss: 774491.5000, CMAPE: 88.27%, R²: 0.9704\n",
      "Epoch [1200/2000], Training Loss: 741875.3750, Validation Loss: 743810.8750, CMAPE: 88.36%, R²: 0.9716\n",
      "Epoch [1400/2000], Training Loss: 718408.7500, Validation Loss: 718601.6250, CMAPE: 88.45%, R²: 0.9726\n",
      "Epoch [1600/2000], Training Loss: 694439.8125, Validation Loss: 692466.6250, CMAPE: 88.56%, R²: 0.9736\n",
      "Epoch [1800/2000], Training Loss: 670277.9375, Validation Loss: 666046.3750, CMAPE: 88.67%, R²: 0.9746\n",
      "Epoch [2000/2000], Training Loss: 646307.3125, Validation Loss: 639787.3125, CMAPE: 88.80%, R²: 0.9756\n",
      "Fold 3 Validation Loss: 639787.3125, CMAPE: 88.80%, R²: 0.9756\n",
      "\n",
      "Fold 4/5\n",
      "Epoch [200/2000], Training Loss: 42698040.0000, Validation Loss: 42954008.0000, CMAPE: 43.81%, R²: -0.6330\n",
      "Epoch [400/2000], Training Loss: 20635710.0000, Validation Loss: 20697436.0000, CMAPE: 68.54%, R²: 0.2131\n",
      "Epoch [600/2000], Training Loss: 5268925.0000, Validation Loss: 5242539.5000, CMAPE: 80.48%, R²: 0.8007\n",
      "Epoch [800/2000], Training Loss: 1113971.2500, Validation Loss: 1052726.6250, CMAPE: 87.14%, R²: 0.9600\n",
      "Epoch [1000/2000], Training Loss: 733373.6875, Validation Loss: 658466.3125, CMAPE: 87.82%, R²: 0.9750\n",
      "Epoch [1200/2000], Training Loss: 699164.6250, Validation Loss: 623377.7500, CMAPE: 87.88%, R²: 0.9763\n",
      "Epoch [1400/2000], Training Loss: 674673.0000, Validation Loss: 601317.5625, CMAPE: 87.94%, R²: 0.9771\n",
      "Epoch [1600/2000], Training Loss: 649802.6250, Validation Loss: 579398.6250, CMAPE: 88.02%, R²: 0.9780\n",
      "Epoch [1800/2000], Training Loss: 624893.0000, Validation Loss: 557529.6250, CMAPE: 88.10%, R²: 0.9788\n",
      "Epoch [2000/2000], Training Loss: 600348.1250, Validation Loss: 536022.8750, CMAPE: 88.20%, R²: 0.9796\n",
      "Fold 4 Validation Loss: 536022.8750, CMAPE: 88.20%, R²: 0.9796\n",
      "\n",
      "Fold 5/5\n",
      "Epoch [200/2000], Training Loss: 42948464.0000, Validation Loss: 43115572.0000, CMAPE: 52.21%, R²: -0.6360\n",
      "Epoch [400/2000], Training Loss: 21720570.0000, Validation Loss: 21829828.0000, CMAPE: 67.52%, R²: 0.1717\n",
      "Epoch [600/2000], Training Loss: 5722074.5000, Validation Loss: 5776001.5000, CMAPE: 80.38%, R²: 0.7808\n",
      "Epoch [800/2000], Training Loss: 1293393.3750, Validation Loss: 1291430.6250, CMAPE: 86.85%, R²: 0.9510\n",
      "Epoch [1000/2000], Training Loss: 873172.9375, Validation Loss: 842991.8125, CMAPE: 87.59%, R²: 0.9680\n",
      "Epoch [1200/2000], Training Loss: 826802.5625, Validation Loss: 793902.3750, CMAPE: 87.72%, R²: 0.9699\n",
      "Epoch [1400/2000], Training Loss: 790777.0625, Validation Loss: 761765.1250, CMAPE: 87.82%, R²: 0.9711\n",
      "Epoch [1600/2000], Training Loss: 754394.5000, Validation Loss: 730274.9375, CMAPE: 87.94%, R²: 0.9723\n",
      "Epoch [1800/2000], Training Loss: 718265.7500, Validation Loss: 699188.3125, CMAPE: 88.06%, R²: 0.9735\n",
      "Epoch [2000/2000], Training Loss: 683071.8125, Validation Loss: 669033.6875, CMAPE: 88.18%, R²: 0.9746\n",
      "Fold 5 Validation Loss: 669033.6875, CMAPE: 88.18%, R²: 0.9746\n",
      "\n",
      "Average Validation Loss: 637673.2000, Average CMAPE: 87.97%, Average R²: 0.9757\n"
     ]
    },
    {
     "data": {
      "image/png": "[encoded data removed]",
      "text/plain": [
       "<Figure size 1000x600 with 1 Axes>"
      ]
     },
     "metadata": {},
     "output_type": "display_data"
    }
   ],
   "source": [
    "input = ['Feed B', 'Feed S','Feed K','Feed i','Feed O ', 'Feed N']\n",
    "output = ['C1', 'NGL', 'Sulphur']\n",
    "hidden_sizes = [16]\n",
    "\n",
    "fnn_y, criterion, optimizer = utils.makeNN(input, output, hidden_sizes, df)\n",
    "models, fold_results, trainLoss, valLoss = utils.trainKfolds(fnn_y, criterion, optimizer, epochs=2000, n_splits=5)\n",
    "\n",
    "utils.loss_plot(trainLoss, valLoss)"
   ]
  },
  {
   "cell_type": "code",
   "execution_count": null,
   "metadata": {},
   "outputs": [],
   "source": [
    "# NOTE: set the fraction at start maybe\n",
    "df_y_train = df.sample(frac=0.8, random_state=7)\n",
    "df_y_test = df.drop(df_y_train.index)"
   ]
  },
  {
   "cell_type": "code",
   "execution_count": null,
   "metadata": {},
   "outputs": [
    {
     "name": "stdout",
     "output_type": "stream",
     "text": [
      "\n",
      "Fold 1/5\n",
      "Epoch [200/2000], Training Loss: 25375.8281, Validation Loss: 20050.5957, CMAPE: 89.00%, R²: -2.6538\n",
      "Epoch [400/2000], Training Loss: 20980.2969, Validation Loss: 17135.3691, CMAPE: 89.78%, R²: -2.1226\n",
      "Epoch [600/2000], Training Loss: 17862.4023, Validation Loss: 14841.7988, CMAPE: 90.63%, R²: -1.7046\n",
      "Epoch [800/2000], Training Loss: 15796.9248, Validation Loss: 13035.2812, CMAPE: 91.49%, R²: -1.3754\n",
      "Epoch [1000/2000], Training Loss: 14461.5381, Validation Loss: 11676.9717, CMAPE: 92.23%, R²: -1.1279\n",
      "Epoch [1200/2000], Training Loss: 13608.5459, Validation Loss: 10728.5527, CMAPE: 92.79%, R²: -0.9551\n",
      "Epoch [1400/2000], Training Loss: 13000.4102, Validation Loss: 10070.9502, CMAPE: 93.12%, R²: -0.8352\n",
      "Epoch [1600/2000], Training Loss: 12482.5771, Validation Loss: 9545.0410, CMAPE: 93.33%, R²: -0.7394\n",
      "Epoch [1800/2000], Training Loss: 11811.4932, Validation Loss: 8880.4453, CMAPE: 93.49%, R²: -0.6183\n",
      "Epoch [2000/2000], Training Loss: 11511.2090, Validation Loss: 8591.8262, CMAPE: 93.58%, R²: -0.5657\n",
      "Fold 1 Validation Loss: 8591.8262, CMAPE: 93.58%, R²: -0.5657\n",
      "\n",
      "Fold 2/5\n",
      "Epoch [200/2000], Training Loss: 24920.7715, Validation Loss: 29796.1953, CMAPE: 86.08%, R²: -2.8337\n",
      "Epoch [400/2000], Training Loss: 19963.5449, Validation Loss: 23646.6387, CMAPE: 87.77%, R²: -2.0425\n",
      "Epoch [600/2000], Training Loss: 16406.0098, Validation Loss: 18699.9082, CMAPE: 89.26%, R²: -1.4060\n",
      "Epoch [800/2000], Training Loss: 13768.2637, Validation Loss: 14667.9209, CMAPE: 90.76%, R²: -0.8872\n",
      "Epoch [1000/2000], Training Loss: 12371.3252, Validation Loss: 12484.7686, CMAPE: 91.89%, R²: -0.6063\n",
      "Epoch [1200/2000], Training Loss: 11663.5967, Validation Loss: 11526.7754, CMAPE: 92.36%, R²: -0.4831\n",
      "Epoch [1400/2000], Training Loss: 11161.8105, Validation Loss: 10996.4863, CMAPE: 92.48%, R²: -0.4149\n",
      "Epoch [1600/2000], Training Loss: 10759.6572, Validation Loss: 10635.8760, CMAPE: 92.53%, R²: -0.3685\n",
      "Epoch [1800/2000], Training Loss: 10443.7031, Validation Loss: 10348.3506, CMAPE: 92.57%, R²: -0.3315\n",
      "Epoch [2000/2000], Training Loss: 10205.9072, Validation Loss: 10103.7178, CMAPE: 92.59%, R²: -0.3000\n",
      "Fold 2 Validation Loss: 10103.7178, CMAPE: 92.59%, R²: -0.3000\n",
      "\n",
      "Fold 3/5\n",
      "Epoch [200/2000], Training Loss: 21932.4668, Validation Loss: 23375.7285, CMAPE: 87.88%, R²: -2.5186\n",
      "Epoch [400/2000], Training Loss: 18466.7246, Validation Loss: 20190.8242, CMAPE: 88.73%, R²: -2.0392\n",
      "Epoch [600/2000], Training Loss: 15802.4629, Validation Loss: 16978.2363, CMAPE: 89.71%, R²: -1.5556\n",
      "Epoch [800/2000], Training Loss: 13831.1514, Validation Loss: 14334.8203, CMAPE: 90.66%, R²: -1.1577\n",
      "Epoch [1000/2000], Training Loss: 12440.5596, Validation Loss: 12358.2266, CMAPE: 91.51%, R²: -0.8602\n",
      "Epoch [1200/2000], Training Loss: 11405.0000, Validation Loss: 10925.0527, CMAPE: 92.18%, R²: -0.6445\n",
      "Epoch [1400/2000], Training Loss: 10441.8271, Validation Loss: 9837.1699, CMAPE: 92.70%, R²: -0.4807\n",
      "Epoch [1600/2000], Training Loss: 9478.7256, Validation Loss: 8909.6650, CMAPE: 93.15%, R²: -0.3411\n",
      "Epoch [1800/2000], Training Loss: 8581.7246, Validation Loss: 8180.8940, CMAPE: 93.46%, R²: -0.2314\n",
      "Epoch [2000/2000], Training Loss: 7920.9321, Validation Loss: 7814.5913, CMAPE: 93.65%, R²: -0.1763\n",
      "Fold 3 Validation Loss: 7814.5913, CMAPE: 93.65%, R²: -0.1763\n",
      "\n",
      "Fold 4/5\n",
      "Epoch [200/2000], Training Loss: 27125.8750, Validation Loss: 25769.0664, CMAPE: 87.32%, R²: -3.7460\n",
      "Epoch [400/2000], Training Loss: 22273.2441, Validation Loss: 20748.5020, CMAPE: 88.61%, R²: -2.8214\n",
      "Epoch [600/2000], Training Loss: 18017.7148, Validation Loss: 16477.1094, CMAPE: 90.01%, R²: -2.0347\n",
      "Epoch [800/2000], Training Loss: 14837.1982, Validation Loss: 13049.9131, CMAPE: 91.48%, R²: -1.4035\n",
      "Epoch [1000/2000], Training Loss: 12904.8789, Validation Loss: 10759.1582, CMAPE: 92.53%, R²: -0.9816\n",
      "Epoch [1200/2000], Training Loss: 11734.3516, Validation Loss: 9492.2002, CMAPE: 93.22%, R²: -0.7482\n",
      "Epoch [1400/2000], Training Loss: 11208.9502, Validation Loss: 8978.8896, CMAPE: 93.45%, R²: -0.6537\n",
      "Epoch [1600/2000], Training Loss: 10854.3613, Validation Loss: 8675.4971, CMAPE: 93.51%, R²: -0.5978\n",
      "Epoch [1800/2000], Training Loss: 10569.8906, Validation Loss: 8387.7939, CMAPE: 93.57%, R²: -0.5448\n",
      "Epoch [2000/2000], Training Loss: 10327.8076, Validation Loss: 8144.0854, CMAPE: 93.63%, R²: -0.4999\n",
      "Fold 4 Validation Loss: 8144.0854, CMAPE: 93.63%, R²: -0.4999\n",
      "\n",
      "Fold 5/5\n",
      "Epoch [200/2000], Training Loss: 23939.8613, Validation Loss: 19965.7227, CMAPE: 88.94%, R²: -1.3776\n",
      "Epoch [400/2000], Training Loss: 19339.7871, Validation Loss: 19480.7812, CMAPE: 89.25%, R²: -1.3198\n",
      "Epoch [600/2000], Training Loss: 11874.3066, Validation Loss: 20024.4531, CMAPE: 90.80%, R²: -1.3846\n",
      "Epoch [800/2000], Training Loss: 9953.8730, Validation Loss: 20317.4023, CMAPE: 91.37%, R²: -1.4195\n",
      "Epoch [1000/2000], Training Loss: 9480.6963, Validation Loss: 19166.0039, CMAPE: 91.54%, R²: -1.2823\n",
      "Epoch [1200/2000], Training Loss: 9203.5859, Validation Loss: 18202.2227, CMAPE: 91.69%, R²: -1.1676\n",
      "Epoch [1400/2000], Training Loss: 9003.4473, Validation Loss: 17329.5957, CMAPE: 91.84%, R²: -1.0637\n",
      "Epoch [1600/2000], Training Loss: 8881.7861, Validation Loss: 16624.0547, CMAPE: 91.97%, R²: -0.9796\n",
      "Epoch [1800/2000], Training Loss: 8810.8975, Validation Loss: 16109.0537, CMAPE: 92.07%, R²: -0.9183\n",
      "Epoch [2000/2000], Training Loss: 8774.9795, Validation Loss: 15771.1562, CMAPE: 92.13%, R²: -0.8781\n",
      "Fold 5 Validation Loss: 15771.1562, CMAPE: 92.13%, R²: -0.8781\n",
      "\n",
      "Average Validation Loss: 10085.0754, Average CMAPE: 93.12%, Average R²: -0.4840\n"
     ]
    }
   ],
   "source": [
    "input = ['Feed B', 'Feed S','Feed K','Feed i','Feed O ', 'Feed N']\n",
    "output = ['C1']\n",
    "hidden_sizes = [16,16]\n",
    "\n",
    "fnn_y, criterion, optimizer = utils.makeNN(input, output, hidden_sizes,df_y_train)\n",
    "models_C1, fold_results_C1, trainLoss_C1, valLoss_C1 = utils.trainKfolds(fnn_y, criterion, optimizer, epochs=2000, n_splits=5)"
   ]
  },
  {
   "cell_type": "code",
   "execution_count": null,
   "metadata": {},
   "outputs": [
    {
     "name": "stdout",
     "output_type": "stream",
     "text": [
      "\n",
      "Fold 1/5\n",
      "Epoch [200/2000], Training Loss: 70827080.0000, Validation Loss: 69194192.0000, CMAPE: 33.53%, R²: -40.4272\n",
      "Epoch [400/2000], Training Loss: 2670133.7500, Validation Loss: 2368648.7500, CMAPE: 89.50%, R²: -0.4181\n",
      "Epoch [600/2000], Training Loss: 2283523.0000, Validation Loss: 2010287.1250, CMAPE: 90.35%, R²: -0.2036\n",
      "Epoch [800/2000], Training Loss: 1940563.2500, Validation Loss: 1686984.0000, CMAPE: 91.16%, R²: -0.0100\n",
      "Epoch [1000/2000], Training Loss: 1664664.8750, Validation Loss: 1420503.2500, CMAPE: 91.94%, R²: 0.1495\n",
      "Epoch [1200/2000], Training Loss: 1459770.3750, Validation Loss: 1215720.1250, CMAPE: 92.61%, R²: 0.2721\n",
      "Epoch [1400/2000], Training Loss: 1317504.8750, Validation Loss: 1066826.5000, CMAPE: 93.12%, R²: 0.3613\n",
      "Epoch [1600/2000], Training Loss: 1222926.2500, Validation Loss: 962157.5000, CMAPE: 93.51%, R²: 0.4239\n",
      "Epoch [1800/2000], Training Loss: 1159915.8750, Validation Loss: 888619.6250, CMAPE: 93.83%, R²: 0.4680\n",
      "Epoch [2000/2000], Training Loss: 1115341.0000, Validation Loss: 835121.5000, CMAPE: 94.08%, R²: 0.5000\n",
      "Fold 1 Validation Loss: 835121.5000, CMAPE: 94.08%, R²: 0.5000\n",
      "\n",
      "Fold 2/5\n",
      "Epoch [200/2000], Training Loss: 71269856.0000, Validation Loss: 67989496.0000, CMAPE: 34.27%, R²: -30.3760\n",
      "Epoch [400/2000], Training Loss: 3023201.5000, Validation Loss: 3121335.7500, CMAPE: 87.78%, R²: -0.4404\n",
      "Epoch [600/2000], Training Loss: 2559863.0000, Validation Loss: 2657239.0000, CMAPE: 88.69%, R²: -0.2263\n",
      "Epoch [800/2000], Training Loss: 2140770.0000, Validation Loss: 2232667.0000, CMAPE: 89.60%, R²: -0.0303\n",
      "Epoch [1000/2000], Training Loss: 1795260.0000, Validation Loss: 1878622.8750, CMAPE: 90.45%, R²: 0.1330\n",
      "Epoch [1200/2000], Training Loss: 1531281.3750, Validation Loss: 1604460.1250, CMAPE: 91.23%, R²: 0.2596\n",
      "Epoch [1400/2000], Training Loss: 1342881.6250, Validation Loss: 1405728.8750, CMAPE: 91.88%, R²: 0.3513\n",
      "Epoch [1600/2000], Training Loss: 1215585.6250, Validation Loss: 1269146.5000, CMAPE: 92.38%, R²: 0.4143\n",
      "Epoch [1800/2000], Training Loss: 1131541.0000, Validation Loss: 1177600.0000, CMAPE: 92.73%, R²: 0.4566\n",
      "Epoch [2000/2000], Training Loss: 1074485.5000, Validation Loss: 1115374.1250, CMAPE: 92.96%, R²: 0.4853\n",
      "Fold 2 Validation Loss: 1115374.1250, CMAPE: 92.96%, R²: 0.4853\n",
      "\n",
      "Fold 3/5\n",
      "Epoch [200/2000], Training Loss: 51742640.0000, Validation Loss: 51881280.0000, CMAPE: 43.73%, R²: -29.3125\n",
      "Epoch [400/2000], Training Loss: 2336661.5000, Validation Loss: 2792675.2500, CMAPE: 89.10%, R²: -0.6317\n",
      "Epoch [600/2000], Training Loss: 1895447.6250, Validation Loss: 2260256.0000, CMAPE: 90.21%, R²: -0.3206\n",
      "Epoch [800/2000], Training Loss: 1531256.5000, Validation Loss: 1801702.2500, CMAPE: 91.31%, R²: -0.0527\n",
      "Epoch [1000/2000], Training Loss: 1298766.0000, Validation Loss: 1490044.8750, CMAPE: 92.16%, R²: 0.1294\n",
      "Epoch [1200/2000], Training Loss: 1176029.3750, Validation Loss: 1315812.2500, CMAPE: 92.72%, R²: 0.2312\n",
      "Epoch [1400/2000], Training Loss: 1102369.3750, Validation Loss: 1212438.7500, CMAPE: 93.08%, R²: 0.2916\n",
      "Epoch [1600/2000], Training Loss: 1046810.6250, Validation Loss: 1139668.5000, CMAPE: 93.32%, R²: 0.3341\n",
      "Epoch [1800/2000], Training Loss: 1000676.2500, Validation Loss: 1081710.1250, CMAPE: 93.51%, R²: 0.3680\n",
      "Epoch [2000/2000], Training Loss: 961356.6875, Validation Loss: 1033967.5625, CMAPE: 93.67%, R²: 0.3959\n",
      "Fold 3 Validation Loss: 1033967.5625, CMAPE: 93.67%, R²: 0.3959\n",
      "\n",
      "Fold 4/5\n",
      "Epoch [200/2000], Training Loss: 19097000.0000, Validation Loss: 18614308.0000, CMAPE: 67.09%, R²: -10.2128\n",
      "Epoch [400/2000], Training Loss: 1579145.7500, Validation Loss: 1585497.5000, CMAPE: 91.50%, R²: 0.0449\n",
      "Epoch [600/2000], Training Loss: 1214766.1250, Validation Loss: 1279084.1250, CMAPE: 92.58%, R²: 0.2295\n",
      "Epoch [800/2000], Training Loss: 1076855.1250, Validation Loss: 1174857.7500, CMAPE: 92.98%, R²: 0.2923\n",
      "Epoch [1000/2000], Training Loss: 990648.5000, Validation Loss: 1103930.7500, CMAPE: 93.21%, R²: 0.3350\n",
      "Epoch [1200/2000], Training Loss: 914768.7500, Validation Loss: 1039661.4375, CMAPE: 93.42%, R²: 0.3737\n",
      "Epoch [1400/2000], Training Loss: 856075.1875, Validation Loss: 997590.8125, CMAPE: 93.60%, R²: 0.3991\n",
      "Epoch [1600/2000], Training Loss: 817492.9375, Validation Loss: 979501.1250, CMAPE: 93.72%, R²: 0.4100\n",
      "Epoch [1800/2000], Training Loss: 796098.7500, Validation Loss: 973345.6250, CMAPE: 93.82%, R²: 0.4137\n",
      "Epoch [2000/2000], Training Loss: 786108.8750, Validation Loss: 972905.7500, CMAPE: 93.88%, R²: 0.4139\n",
      "Fold 4 Validation Loss: 972905.7500, CMAPE: 93.88%, R²: 0.4139\n",
      "\n",
      "Fold 5/5\n",
      "Epoch [200/2000], Training Loss: 53722264.0000, Validation Loss: 52541320.0000, CMAPE: 42.10%, R²: -21.3186\n",
      "Epoch [400/2000], Training Loss: 2956615.7500, Validation Loss: 2714164.2500, CMAPE: 88.23%, R²: -0.1529\n",
      "Epoch [600/2000], Training Loss: 2470404.0000, Validation Loss: 2245917.5000, CMAPE: 89.21%, R²: 0.0460\n",
      "Epoch [800/2000], Training Loss: 2043494.0000, Validation Loss: 1853046.8750, CMAPE: 90.21%, R²: 0.2129\n",
      "Epoch [1000/2000], Training Loss: 1704795.3750, Validation Loss: 1562491.7500, CMAPE: 91.07%, R²: 0.3363\n",
      "Epoch [1200/2000], Training Loss: 1457686.1250, Validation Loss: 1371642.1250, CMAPE: 91.75%, R²: 0.4174\n",
      "Epoch [1400/2000], Training Loss: 1289500.2500, Validation Loss: 1260843.0000, CMAPE: 92.24%, R²: 0.4644\n",
      "Epoch [1600/2000], Training Loss: 1179560.6250, Validation Loss: 1203240.3750, CMAPE: 92.53%, R²: 0.4889\n",
      "Epoch [1800/2000], Training Loss: 1106798.2500, Validation Loss: 1173836.6250, CMAPE: 92.72%, R²: 0.5014\n",
      "Epoch [2000/2000], Training Loss: 1055156.2500, Validation Loss: 1155355.1250, CMAPE: 92.86%, R²: 0.5092\n",
      "Fold 5 Validation Loss: 1155355.1250, CMAPE: 92.86%, R²: 0.5092\n",
      "\n",
      "Average Validation Loss: 1022544.8125, Average CMAPE: 93.49%, Average R²: 0.4609\n"
     ]
    }
   ],
   "source": [
    "input = ['Feed B', 'Feed S','Feed K','Feed i','Feed O ', 'Feed N']\n",
    "output = ['NGL']\n",
    "hidden_sizes = [16,16]\n",
    "\n",
    "fnn_y, criterion, optimizer = utils.makeNN(input, output, hidden_sizes,df_y_train)\n",
    "models_NGL, fold_results_NGL, trainLoss_NGL, valLoss_NGL = utils.trainKfolds(fnn_y, criterion, optimizer, epochs=2000, n_splits=5)"
   ]
  },
  {
   "cell_type": "code",
   "execution_count": null,
   "metadata": {},
   "outputs": [
    {
     "name": "stdout",
     "output_type": "stream",
     "text": [
      "\n",
      "Fold 1/5\n",
      "Epoch [200/2000], Training Loss: 157826.0000, Validation Loss: 139797.8438, CMAPE: 86.14%, R²: 0.0998\n",
      "Epoch [400/2000], Training Loss: 139512.7656, Validation Loss: 128299.5625, CMAPE: 86.78%, R²: 0.1738\n",
      "Epoch [600/2000], Training Loss: 129818.0938, Validation Loss: 124351.7109, CMAPE: 87.07%, R²: 0.1992\n",
      "Epoch [800/2000], Training Loss: 125300.9219, Validation Loss: 124136.7891, CMAPE: 87.18%, R²: 0.2006\n",
      "Epoch [1000/2000], Training Loss: 123747.9141, Validation Loss: 125247.9141, CMAPE: 87.16%, R²: 0.1935\n",
      "Epoch [1200/2000], Training Loss: 123266.5781, Validation Loss: 126098.3906, CMAPE: 87.13%, R²: 0.1880\n",
      "Epoch [1400/2000], Training Loss: 123057.9609, Validation Loss: 126443.7812, CMAPE: 87.12%, R²: 0.1858\n",
      "Epoch [1600/2000], Training Loss: 122930.6953, Validation Loss: 126494.9453, CMAPE: 87.12%, R²: 0.1854\n",
      "Epoch [1800/2000], Training Loss: 122812.3672, Validation Loss: 126401.0078, CMAPE: 87.12%, R²: 0.1860\n",
      "Epoch [2000/2000], Training Loss: 122703.5469, Validation Loss: 126314.5859, CMAPE: 87.12%, R²: 0.1866\n",
      "Fold 1 Validation Loss: 126314.5859, CMAPE: 87.12%, R²: 0.1866\n",
      "\n",
      "Fold 2/5\n",
      "Epoch [200/2000], Training Loss: 177054.2344, Validation Loss: 225620.4062, CMAPE: 80.07%, R²: -0.0880\n",
      "Epoch [400/2000], Training Loss: 146270.7969, Validation Loss: 185152.2500, CMAPE: 82.13%, R²: 0.1071\n",
      "Epoch [600/2000], Training Loss: 126525.6719, Validation Loss: 155103.8906, CMAPE: 83.49%, R²: 0.2520\n",
      "Epoch [800/2000], Training Loss: 119822.1953, Validation Loss: 142975.0469, CMAPE: 84.13%, R²: 0.3105\n",
      "Epoch [1000/2000], Training Loss: 117433.0859, Validation Loss: 139314.6406, CMAPE: 84.36%, R²: 0.3282\n",
      "Epoch [1200/2000], Training Loss: 116114.7578, Validation Loss: 137793.5156, CMAPE: 84.47%, R²: 0.3355\n",
      "Epoch [1400/2000], Training Loss: 115043.0703, Validation Loss: 136763.0312, CMAPE: 84.54%, R²: 0.3405\n",
      "Epoch [1600/2000], Training Loss: 114010.9219, Validation Loss: 136222.7031, CMAPE: 84.58%, R²: 0.3431\n",
      "Epoch [1800/2000], Training Loss: 112749.5391, Validation Loss: 136186.1250, CMAPE: 84.57%, R²: 0.3433\n",
      "Epoch [2000/2000], Training Loss: 111176.6562, Validation Loss: 135808.4688, CMAPE: 84.57%, R²: 0.3451\n",
      "Fold 2 Validation Loss: 135808.4688, CMAPE: 84.57%, R²: 0.3451\n",
      "\n",
      "Fold 3/5\n",
      "Epoch [200/2000], Training Loss: 187192.3906, Validation Loss: 164639.1875, CMAPE: 84.65%, R²: -0.2440\n",
      "Epoch [400/2000], Training Loss: 153471.0312, Validation Loss: 134034.4219, CMAPE: 86.43%, R²: -0.0128\n",
      "Epoch [600/2000], Training Loss: 137479.6250, Validation Loss: 119473.1250, CMAPE: 87.26%, R²: 0.0972\n",
      "Epoch [800/2000], Training Loss: 131560.0312, Validation Loss: 112167.6094, CMAPE: 87.79%, R²: 0.1524\n",
      "Epoch [1000/2000], Training Loss: 128144.0312, Validation Loss: 107277.2969, CMAPE: 88.22%, R²: 0.1894\n",
      "Epoch [1200/2000], Training Loss: 126889.1719, Validation Loss: 105160.6641, CMAPE: 88.42%, R²: 0.2054\n",
      "Epoch [1400/2000], Training Loss: 126053.2188, Validation Loss: 103966.4219, CMAPE: 88.50%, R²: 0.2144\n",
      "Epoch [1600/2000], Training Loss: 125380.1016, Validation Loss: 103159.8828, CMAPE: 88.57%, R²: 0.2205\n",
      "Epoch [1800/2000], Training Loss: 124923.9375, Validation Loss: 102317.1172, CMAPE: 88.64%, R²: 0.2269\n",
      "Epoch [2000/2000], Training Loss: 124457.7109, Validation Loss: 101616.2734, CMAPE: 88.69%, R²: 0.2322\n",
      "Fold 3 Validation Loss: 101616.2734, CMAPE: 88.69%, R²: 0.2322\n",
      "\n",
      "Fold 4/5\n",
      "Epoch [200/2000], Training Loss: 164181.9219, Validation Loss: 186244.5000, CMAPE: 84.68%, R²: -0.0546\n",
      "Epoch [400/2000], Training Loss: 147633.1094, Validation Loss: 167992.2188, CMAPE: 85.41%, R²: 0.0487\n",
      "Epoch [600/2000], Training Loss: 137249.6250, Validation Loss: 156069.7344, CMAPE: 85.84%, R²: 0.1162\n",
      "Epoch [800/2000], Training Loss: 129222.5234, Validation Loss: 146292.7344, CMAPE: 86.26%, R²: 0.1716\n",
      "Epoch [1000/2000], Training Loss: 123687.8359, Validation Loss: 138961.3125, CMAPE: 86.64%, R²: 0.2131\n",
      "Epoch [1200/2000], Training Loss: 120013.8672, Validation Loss: 133656.3281, CMAPE: 86.93%, R²: 0.2432\n",
      "Epoch [1400/2000], Training Loss: 117422.7891, Validation Loss: 129777.1641, CMAPE: 87.17%, R²: 0.2651\n",
      "Epoch [1600/2000], Training Loss: 115346.7344, Validation Loss: 126827.5859, CMAPE: 87.36%, R²: 0.2818\n",
      "Epoch [1800/2000], Training Loss: 113715.8359, Validation Loss: 125021.2969, CMAPE: 87.41%, R²: 0.2921\n",
      "Epoch [2000/2000], Training Loss: 112564.0234, Validation Loss: 123955.9297, CMAPE: 87.45%, R²: 0.2981\n",
      "Fold 4 Validation Loss: 123955.9297, CMAPE: 87.45%, R²: 0.2981\n",
      "\n",
      "Fold 5/5\n",
      "Epoch [200/2000], Training Loss: 253973.5625, Validation Loss: 230216.5625, CMAPE: 82.36%, R²: -0.2965\n",
      "Epoch [400/2000], Training Loss: 199917.1719, Validation Loss: 176239.7500, CMAPE: 84.24%, R²: 0.0075\n",
      "Epoch [600/2000], Training Loss: 166040.4688, Validation Loss: 145720.6250, CMAPE: 85.35%, R²: 0.1794\n",
      "Epoch [800/2000], Training Loss: 145174.7031, Validation Loss: 130889.7656, CMAPE: 86.04%, R²: 0.2629\n",
      "Epoch [1000/2000], Training Loss: 132051.9219, Validation Loss: 124367.4375, CMAPE: 86.43%, R²: 0.2996\n",
      "Epoch [1200/2000], Training Loss: 125346.9844, Validation Loss: 122573.7109, CMAPE: 86.59%, R²: 0.3097\n",
      "Epoch [1400/2000], Training Loss: 122432.7891, Validation Loss: 122611.6172, CMAPE: 86.57%, R²: 0.3095\n",
      "Epoch [1600/2000], Training Loss: 121217.4297, Validation Loss: 122989.7422, CMAPE: 86.52%, R²: 0.3074\n",
      "Epoch [1800/2000], Training Loss: 120649.8359, Validation Loss: 123170.0391, CMAPE: 86.51%, R²: 0.3064\n",
      "Epoch [2000/2000], Training Loss: 120261.4297, Validation Loss: 123002.7734, CMAPE: 86.52%, R²: 0.3073\n",
      "Fold 5 Validation Loss: 123002.7734, CMAPE: 86.52%, R²: 0.3073\n",
      "\n",
      "Average Validation Loss: 122139.6062, Average CMAPE: 86.87%, Average R²: 0.2739\n"
     ]
    }
   ],
   "source": [
    "input = ['Feed B', 'Feed S','Feed i','Feed O ', 'Feed N']\n",
    "output = ['Sulphur']\n",
    "hidden_sizes = [16,16]\n",
    "\n",
    "fnn_y, criterion, optimizer = utils.makeNN(input, output, hidden_sizes,df_y_train)\n",
    "models_Sulphur, fold_result_Sulphur, trainLoss_Sulphur, valLoss_Sulphur = utils.trainKfolds(fnn_y, criterion, optimizer, epochs=2000, n_splits=5)"
   ]
  },
  {
   "cell_type": "code",
   "execution_count": null,
   "metadata": {},
   "outputs": [
    {
     "name": "stdout",
     "output_type": "stream",
     "text": [
      "\n",
      "Fold 1/5\n",
      "Epoch [200/2000], Training Loss: 27452918.0000, Validation Loss: 27005068.0000, CMAPE: 57.35%, R²: -0.0415\n",
      "Epoch [400/2000], Training Loss: 1129477.6250, Validation Loss: 985886.0625, CMAPE: 87.28%, R²: 0.9620\n",
      "Epoch [600/2000], Training Loss: 974976.5000, Validation Loss: 848888.1250, CMAPE: 87.59%, R²: 0.9673\n",
      "Epoch [800/2000], Training Loss: 835767.1875, Validation Loss: 724338.4375, CMAPE: 87.83%, R²: 0.9721\n",
      "Epoch [1000/2000], Training Loss: 722447.8750, Validation Loss: 621002.2500, CMAPE: 88.00%, R²: 0.9760\n",
      "Epoch [1200/2000], Training Loss: 637519.1875, Validation Loss: 541331.1875, CMAPE: 88.06%, R²: 0.9791\n",
      "Epoch [1400/2000], Training Loss: 577667.1250, Validation Loss: 482932.9688, CMAPE: 88.10%, R²: 0.9814\n",
      "Epoch [1600/2000], Training Loss: 536333.6875, Validation Loss: 440711.1875, CMAPE: 88.18%, R²: 0.9830\n",
      "Epoch [1800/2000], Training Loss: 506645.3438, Validation Loss: 409235.8125, CMAPE: 88.30%, R²: 0.9842\n",
      "Epoch [2000/2000], Training Loss: 483526.0312, Validation Loss: 384414.1562, CMAPE: 88.46%, R²: 0.9852\n",
      "Fold 1 Validation Loss: 384414.1562, CMAPE: 88.46%, R²: 0.9852\n",
      "\n",
      "Fold 2/5\n",
      "Epoch [200/2000], Training Loss: 17841520.0000, Validation Loss: 16915256.0000, CMAPE: 60.24%, R²: 0.3499\n",
      "Epoch [400/2000], Training Loss: 812422.1875, Validation Loss: 854690.8750, CMAPE: 85.61%, R²: 0.9672\n",
      "Epoch [600/2000], Training Loss: 683040.6875, Validation Loss: 722809.7500, CMAPE: 86.01%, R²: 0.9722\n",
      "Epoch [800/2000], Training Loss: 570360.1875, Validation Loss: 605835.8125, CMAPE: 86.74%, R²: 0.9767\n",
      "Epoch [1000/2000], Training Loss: 489999.1875, Validation Loss: 520394.9062, CMAPE: 87.41%, R²: 0.9800\n",
      "Epoch [1200/2000], Training Loss: 445961.0938, Validation Loss: 472188.1562, CMAPE: 87.75%, R²: 0.9819\n",
      "Epoch [1400/2000], Training Loss: 421214.1562, Validation Loss: 445164.5312, CMAPE: 87.97%, R²: 0.9829\n",
      "Epoch [1600/2000], Training Loss: 403110.5625, Validation Loss: 426301.6250, CMAPE: 88.16%, R²: 0.9836\n",
      "Epoch [1800/2000], Training Loss: 387571.8438, Validation Loss: 410816.2812, CMAPE: 88.34%, R²: 0.9842\n",
      "Epoch [2000/2000], Training Loss: 373903.5625, Validation Loss: 397555.0000, CMAPE: 88.52%, R²: 0.9847\n",
      "Fold 2 Validation Loss: 397555.0000, CMAPE: 88.52%, R²: 0.9847\n",
      "\n",
      "Fold 3/5\n",
      "Epoch [200/2000], Training Loss: 17502250.0000, Validation Loss: 17562506.0000, CMAPE: 62.19%, R²: 0.3460\n",
      "Epoch [400/2000], Training Loss: 692593.1250, Validation Loss: 818415.9375, CMAPE: 87.25%, R²: 0.9695\n",
      "Epoch [600/2000], Training Loss: 639952.3125, Validation Loss: 749675.3125, CMAPE: 87.36%, R²: 0.9721\n",
      "Epoch [800/2000], Training Loss: 592316.2500, Validation Loss: 685594.6250, CMAPE: 87.45%, R²: 0.9745\n",
      "Epoch [1000/2000], Training Loss: 552738.2500, Validation Loss: 630423.2500, CMAPE: 87.52%, R²: 0.9765\n",
      "Epoch [1200/2000], Training Loss: 521191.0000, Validation Loss: 584990.1250, CMAPE: 87.61%, R²: 0.9782\n",
      "Epoch [1400/2000], Training Loss: 496032.8125, Validation Loss: 548073.8125, CMAPE: 87.69%, R²: 0.9796\n",
      "Epoch [1600/2000], Training Loss: 475299.9375, Validation Loss: 517739.9062, CMAPE: 87.80%, R²: 0.9807\n",
      "Epoch [1800/2000], Training Loss: 457489.0312, Validation Loss: 492234.1250, CMAPE: 87.94%, R²: 0.9817\n",
      "Epoch [2000/2000], Training Loss: 441750.3750, Validation Loss: 470324.4062, CMAPE: 88.08%, R²: 0.9825\n",
      "Fold 3 Validation Loss: 470324.4062, CMAPE: 88.08%, R²: 0.9825\n",
      "\n",
      "Fold 4/5\n",
      "Epoch [200/2000], Training Loss: 28932198.0000, Validation Loss: 29322750.0000, CMAPE: 62.72%, R²: -0.1001\n",
      "Epoch [400/2000], Training Loss: 953569.4375, Validation Loss: 965601.4375, CMAPE: 86.80%, R²: 0.9638\n",
      "Epoch [600/2000], Training Loss: 851184.0000, Validation Loss: 864599.8125, CMAPE: 87.01%, R²: 0.9676\n",
      "Epoch [800/2000], Training Loss: 754715.9375, Validation Loss: 772135.5000, CMAPE: 87.18%, R²: 0.9710\n",
      "Epoch [1000/2000], Training Loss: 669886.1875, Validation Loss: 691802.0625, CMAPE: 87.31%, R²: 0.9740\n",
      "Epoch [1200/2000], Training Loss: 600557.8750, Validation Loss: 627202.1250, CMAPE: 87.42%, R²: 0.9765\n",
      "Epoch [1400/2000], Training Loss: 547154.3750, Validation Loss: 578468.1875, CMAPE: 87.49%, R²: 0.9783\n",
      "Epoch [1600/2000], Training Loss: 507549.4062, Validation Loss: 543185.4375, CMAPE: 87.53%, R²: 0.9796\n",
      "Epoch [1800/2000], Training Loss: 478275.0938, Validation Loss: 517650.9062, CMAPE: 87.59%, R²: 0.9806\n",
      "Epoch [2000/2000], Training Loss: 455817.8438, Validation Loss: 498225.8750, CMAPE: 87.67%, R²: 0.9813\n",
      "Fold 4 Validation Loss: 498225.8750, CMAPE: 87.67%, R²: 0.9813\n",
      "\n",
      "Fold 5/5\n",
      "Epoch [200/2000], Training Loss: 14722963.0000, Validation Loss: 14277622.0000, CMAPE: 71.03%, R²: 0.4420\n",
      "Epoch [400/2000], Training Loss: 896961.6875, Validation Loss: 786140.1875, CMAPE: 87.49%, R²: 0.9693\n",
      "Epoch [600/2000], Training Loss: 777116.0625, Validation Loss: 680768.2500, CMAPE: 87.63%, R²: 0.9734\n",
      "Epoch [800/2000], Training Loss: 673200.9375, Validation Loss: 595976.6875, CMAPE: 87.68%, R²: 0.9767\n",
      "Epoch [1000/2000], Training Loss: 591665.5000, Validation Loss: 536311.6250, CMAPE: 87.65%, R²: 0.9790\n",
      "Epoch [1200/2000], Training Loss: 531766.6250, Validation Loss: 498701.5938, CMAPE: 87.56%, R²: 0.9805\n",
      "Epoch [1400/2000], Training Loss: 488902.8750, Validation Loss: 476407.2188, CMAPE: 87.52%, R²: 0.9814\n",
      "Epoch [1600/2000], Training Loss: 457536.6250, Validation Loss: 462469.9688, CMAPE: 87.56%, R²: 0.9819\n",
      "Epoch [1800/2000], Training Loss: 433185.0312, Validation Loss: 451888.4375, CMAPE: 87.69%, R²: 0.9823\n",
      "Epoch [2000/2000], Training Loss: 413054.9062, Validation Loss: 442063.9062, CMAPE: 87.92%, R²: 0.9827\n",
      "Fold 5 Validation Loss: 442063.9062, CMAPE: 87.92%, R²: 0.9827\n",
      "\n",
      "Average Validation Loss: 438516.6688, Average CMAPE: 88.13%, Average R²: 0.9833\n"
     ]
    }
   ],
   "source": [
    "input = ['Feed B', 'Feed S','Feed K','Feed i','Feed O ', 'Feed N']\n",
    "output = ['C1', 'NGL', 'Sulphur']\n",
    "hidden_sizes = [16,16]\n",
    "\n",
    "fnn_y, criterion, optimizer = utils.makeNN(input, output, hidden_sizes, df_y_train)\n",
    "models_all, fold_results_all, trainLoss_all, valLoss_all = utils.trainKfolds(fnn_y, criterion, optimizer, epochs=2000, n_splits=5)"
   ]
  },
  {
   "cell_type": "code",
   "execution_count": null,
   "metadata": {},
   "outputs": [
    {
     "name": "stdout",
     "output_type": "stream",
     "text": [
      "MSE: 444019.7136, and CMAPE: 0.8839\n"
     ]
    }
   ],
   "source": [
    "input = ['Feed B', 'Feed S','Feed K','Feed i','Feed O ', 'Feed N']\n",
    "output = ['C1', 'NGL', 'Sulphur']\n",
    "y_pred = utils.ensemble_predict(models_all, torch.tensor(df_y_test[input].values, dtype=torch.float32))\n",
    "y_test = df_y_test[output].to_numpy()\n",
    "\n",
    "MSE = mean_squared_error(y_test, y_pred)\n",
    "MAP = 1 - np.mean(np.abs((y_test - y_pred) / y_test))\n",
    "\n",
    "print(f'MSE: {MSE:.4f}, and CMAPE: {MAP:.4f}')"
   ]
  },
  {
   "cell_type": "code",
   "execution_count": null,
   "metadata": {},
   "outputs": [
    {
     "name": "stdout",
     "output_type": "stream",
     "text": [
      "MSE: 9588.7051, and CMAPE: 0.9307\n"
     ]
    }
   ],
   "source": [
    "input = ['Feed B', 'Feed S','Feed K','Feed i','Feed O ', 'Feed N']\n",
    "output = ['C1']\n",
    "y_pred = utils.ensemble_predict(models_C1, torch.tensor(df_y_test[input].values, dtype=torch.float32))\n",
    "y_test = df_y_test[output].to_numpy()\n",
    "\n",
    "MSE = mean_squared_error(y_test, y_pred)\n",
    "MAP = 1 - np.mean(np.abs((y_test - y_pred) / y_test))\n",
    "\n",
    "print(f'MSE: {MSE:.4f}, and CMAPE: {MAP:.4f}')"
   ]
  },
  {
   "cell_type": "code",
   "execution_count": null,
   "metadata": {},
   "outputs": [
    {
     "name": "stdout",
     "output_type": "stream",
     "text": [
      "MSE: 1013524.2719, and CMAPE: 0.9348\n"
     ]
    }
   ],
   "source": [
    "input = ['Feed B', 'Feed S','Feed K','Feed i','Feed O ', 'Feed N']\n",
    "output = ['NGL']\n",
    "y_pred = utils.ensemble_predict(models_NGL, torch.tensor(df_y_test[input].values, dtype=torch.float32))\n",
    "y_test = df_y_test[output].to_numpy()\n",
    "\n",
    "MSE = mean_squared_error(y_test, y_pred)\n",
    "MAP = 1 - np.mean(np.abs((y_test - y_pred) / y_test))\n",
    "\n",
    "print(f'MSE: {MSE:.4f}, and CMAPE: {MAP:.4f}')"
   ]
  },
  {
   "cell_type": "code",
   "execution_count": null,
   "metadata": {},
   "outputs": [
    {
     "name": "stdout",
     "output_type": "stream",
     "text": [
      "MSE: 136790.6171, and CMAPE: 0.8606\n"
     ]
    }
   ],
   "source": [
    "input = ['Feed B', 'Feed S','Feed i','Feed O ', 'Feed N']\n",
    "output = ['Sulphur']\n",
    "y_pred = utils.ensemble_predict(models_Sulphur, torch.tensor(df_y_test[input].values, dtype=torch.float32))\n",
    "y_test = df_y_test[output].to_numpy()\n",
    "\n",
    "MSE = mean_squared_error(y_test, y_pred)\n",
    "MAP = 1 - np.mean(np.abs((y_test - y_pred) / y_test))\n",
    "\n",
    "print(f'MSE: {MSE:.4f}, and CMAPE: {MAP:.4f}')"
   ]
  },
  {
   "cell_type": "code",
   "execution_count": null,
   "metadata": {},
   "outputs": [],
   "source": [
    "inputs = ['Feed B', 'Feed S','Feed K','Feed i','Feed O ', 'Feed N']\n",
    "output = ['C1', 'NGL', 'Sulphur']\n",
    "# calculated theoritical yields: \n",
    "\n",
    "                    #   C1   NGL Sulphur\n",
    "yieldsTheo = pd.DataFrame([[0.72, 7.80, 1.55], #B\n",
    "                      [0.84, 2.00, 2.00], #S\n",
    "                      [0.70, 9.47, 0.00], #K\n",
    "                      [0.84, 2.49, 0.90], #i\n",
    "                      [0.50, 23.4, 1.90], #O\n",
    "                      [0.80, 6.67, 0.60]], #N\n",
    "             columns=output, index=inputs) "
   ]
  },
  {
   "cell_type": "code",
   "execution_count": null,
   "metadata": {},
   "outputs": [],
   "source": [
    "# fcartion of the entire df_y ins+outs (dataFrame)\n",
    "# df_y_train\n",
    "# df_y_test\n",
    "\n",
    "input = ['Feed B', 'Feed S','Feed K','Feed i','Feed O ', 'Feed N']\n",
    "output = ['C1', 'NGL', 'Sulphur']\n",
    "df_y_test_in = df_y_test[input]\n",
    "df_y_test_out = df_y_test[output]"
   ]
  },
  {
   "cell_type": "code",
   "execution_count": null,
   "metadata": {},
   "outputs": [],
   "source": [
    "predTheo = df_y_test_in.dot(yieldsTheo)"
   ]
  },
  {
   "cell_type": "code",
   "execution_count": null,
   "metadata": {},
   "outputs": [
    {
     "name": "stdout",
     "output_type": "stream",
     "text": [
      "MSE: 2379365.9523, and CMAPE: 0.8266\n"
     ]
    }
   ],
   "source": [
    "MSE = mean_squared_error(df_y_test_out, predTheo)\n",
    "MAP = 1 - np.mean(np.abs((df_y_test_out - predTheo) / df_y_test_out))\n",
    "\n",
    "print(f'MSE: {MSE:.4f}, and CMAPE: {MAP:.4f}')"
   ]
  },
  {
   "cell_type": "code",
   "execution_count": null,
   "metadata": {},
   "outputs": [],
   "source": [
    "# NOTE: the model used should not be trained on the fractioned test data, to be changed\n",
    "cols = ['Feed B', 'Feed S','Feed K','Feed i','Feed O ', 'Feed N']\n",
    "rows = ['C1', 'NGL', 'Sulphur']\n",
    "yield_results, yield_std = utils.feedsYield (models_c, cols, rows, multipleModels = 1, constExp = [0,1000,2], feedRangeBounds = [0, 2000])\n",
    "yield_results = yield_results.T"
   ]
  },
  {
   "cell_type": "code",
   "execution_count": null,
   "metadata": {},
   "outputs": [
    {
     "data": {
      "text/html": [
       "<div>\n",
       "<style scoped>\n",
       "    .dataframe tbody tr th:only-of-type {\n",
       "        vertical-align: middle;\n",
       "    }\n",
       "\n",
       "    .dataframe tbody tr th {\n",
       "        vertical-align: top;\n",
       "    }\n",
       "\n",
       "    .dataframe thead th {\n",
       "        text-align: right;\n",
       "    }\n",
       "</style>\n",
       "<table border=\"1\" class=\"dataframe\">\n",
       "  <thead>\n",
       "    <tr style=\"text-align: right;\">\n",
       "      <th></th>\n",
       "      <th>C1</th>\n",
       "      <th>NGL</th>\n",
       "      <th>Sulphur</th>\n",
       "    </tr>\n",
       "  </thead>\n",
       "  <tbody>\n",
       "    <tr>\n",
       "      <th>Feed B</th>\n",
       "      <td>0.838667</td>\n",
       "      <td>9.742172</td>\n",
       "      <td>1.693770</td>\n",
       "    </tr>\n",
       "    <tr>\n",
       "      <th>Feed S</th>\n",
       "      <td>0.730359</td>\n",
       "      <td>8.563973</td>\n",
       "      <td>1.445736</td>\n",
       "    </tr>\n",
       "    <tr>\n",
       "      <th>Feed K</th>\n",
       "      <td>0.064128</td>\n",
       "      <td>0.368747</td>\n",
       "      <td>0.142200</td>\n",
       "    </tr>\n",
       "    <tr>\n",
       "      <th>Feed i</th>\n",
       "      <td>0.376925</td>\n",
       "      <td>3.874637</td>\n",
       "      <td>0.788868</td>\n",
       "    </tr>\n",
       "    <tr>\n",
       "      <th>Feed O</th>\n",
       "      <td>1.161026</td>\n",
       "      <td>13.979962</td>\n",
       "      <td>2.355230</td>\n",
       "    </tr>\n",
       "    <tr>\n",
       "      <th>Feed N</th>\n",
       "      <td>1.056200</td>\n",
       "      <td>13.122900</td>\n",
       "      <td>2.158700</td>\n",
       "    </tr>\n",
       "  </tbody>\n",
       "</table>\n",
       "</div>"
      ],
      "text/plain": [
       "               C1        NGL   Sulphur\n",
       "Feed B   0.838667   9.742172  1.693770\n",
       "Feed S   0.730359   8.563973  1.445736\n",
       "Feed K   0.064128   0.368747  0.142200\n",
       "Feed i   0.376925   3.874637  0.788868\n",
       "Feed O   1.161026  13.979962  2.355230\n",
       "Feed N   1.056200  13.122900  2.158700"
      ]
     },
     "execution_count": 70,
     "metadata": {},
     "output_type": "execute_result"
    }
   ],
   "source": [
    "yield_results.head(6)"
   ]
  },
  {
   "cell_type": "code",
   "execution_count": null,
   "metadata": {},
   "outputs": [
    {
     "data": {
      "text/html": [
       "<div>\n",
       "<style scoped>\n",
       "    .dataframe tbody tr th:only-of-type {\n",
       "        vertical-align: middle;\n",
       "    }\n",
       "\n",
       "    .dataframe tbody tr th {\n",
       "        vertical-align: top;\n",
       "    }\n",
       "\n",
       "    .dataframe thead th {\n",
       "        text-align: right;\n",
       "    }\n",
       "</style>\n",
       "<table border=\"1\" class=\"dataframe\">\n",
       "  <thead>\n",
       "    <tr style=\"text-align: right;\">\n",
       "      <th></th>\n",
       "      <th>Feed B</th>\n",
       "      <th>Feed S</th>\n",
       "      <th>Feed K</th>\n",
       "      <th>Feed i</th>\n",
       "      <th>Feed O</th>\n",
       "      <th>Feed N</th>\n",
       "    </tr>\n",
       "  </thead>\n",
       "  <tbody>\n",
       "    <tr>\n",
       "      <th>C1</th>\n",
       "      <td>0.002717</td>\n",
       "      <td>0.010375</td>\n",
       "      <td>0.023198</td>\n",
       "      <td>0.013750</td>\n",
       "      <td>0.018134</td>\n",
       "      <td>0.037601</td>\n",
       "    </tr>\n",
       "    <tr>\n",
       "      <th>NGL</th>\n",
       "      <td>0.024322</td>\n",
       "      <td>0.135273</td>\n",
       "      <td>0.319450</td>\n",
       "      <td>0.231123</td>\n",
       "      <td>0.325665</td>\n",
       "      <td>0.733390</td>\n",
       "    </tr>\n",
       "    <tr>\n",
       "      <th>Sulphur</th>\n",
       "      <td>0.006040</td>\n",
       "      <td>0.021199</td>\n",
       "      <td>0.042943</td>\n",
       "      <td>0.025916</td>\n",
       "      <td>0.036386</td>\n",
       "      <td>0.074001</td>\n",
       "    </tr>\n",
       "  </tbody>\n",
       "</table>\n",
       "</div>"
      ],
      "text/plain": [
       "           Feed B    Feed S    Feed K    Feed i   Feed O     Feed N\n",
       "C1       0.002717  0.010375  0.023198  0.013750  0.018134  0.037601\n",
       "NGL      0.024322  0.135273  0.319450  0.231123  0.325665  0.733390\n",
       "Sulphur  0.006040  0.021199  0.042943  0.025916  0.036386  0.074001"
      ]
     },
     "execution_count": 71,
     "metadata": {},
     "output_type": "execute_result"
    }
   ],
   "source": [
    "yield_std.head(6)"
   ]
  },
  {
   "cell_type": "code",
   "execution_count": null,
   "metadata": {},
   "outputs": [
    {
     "name": "stdout",
     "output_type": "stream",
     "text": [
      "MSE: 485341.6761, and MAP: 0.8785\n"
     ]
    }
   ],
   "source": [
    "predNN = df_y_test_in.dot(yield_results) \n",
    "MSE = mean_squared_error(df_y_test_out, predNN)\n",
    "MAP = 1 - np.mean(np.abs((df_y_test_out -predNN) / df_y_test_out))\n",
    "\n",
    "print(f'MSE: {MSE:.4f}, and MAP: {MAP:.4f}')"
   ]
  },
  {
   "cell_type": "code",
   "execution_count": null,
   "metadata": {},
   "outputs": [],
   "source": [
    "cols = ['Feed B', 'Feed S','Feed K','Feed i','Feed O ', 'Feed N']\n",
    "rows = ['C1']\n",
    "yield_results_C1, yield_std_C1 = utils.feedsYield (models_C1, cols, rows, multipleModels = 1, constExp = [0,1000,2], feedRangeBounds = [0, 2000])\n",
    "yield_results_C1 = yield_results_C1.T"
   ]
  },
  {
   "cell_type": "code",
   "execution_count": null,
   "metadata": {},
   "outputs": [],
   "source": [
    "cols = ['Feed B', 'Feed S','Feed K','Feed i','Feed O ', 'Feed N']\n",
    "rows = ['NGL']\n",
    "yield_results_NGL, yield_std_NGL = utils.feedsYield (models_NGL, cols, rows, multipleModels = 1, constExp = [0,1000,2], feedRangeBounds = [0, 2000])\n",
    "yield_results_NGL = yield_results_NGL.T"
   ]
  },
  {
   "cell_type": "code",
   "execution_count": 275,
   "metadata": {},
   "outputs": [
    {
     "ename": "NameError",
     "evalue": "name 'models_Sulphur' is not defined",
     "output_type": "error",
     "traceback": [
      "\u001b[1;31m---------------------------------------------------------------------------\u001b[0m",
      "\u001b[1;31mNameError\u001b[0m                                 Traceback (most recent call last)",
      "Cell \u001b[1;32mIn[275], line 3\u001b[0m\n\u001b[0;32m      1\u001b[0m cols \u001b[38;5;241m=\u001b[39m [\u001b[38;5;124m'\u001b[39m\u001b[38;5;124mFeed B\u001b[39m\u001b[38;5;124m'\u001b[39m, \u001b[38;5;124m'\u001b[39m\u001b[38;5;124mFeed S\u001b[39m\u001b[38;5;124m'\u001b[39m,\u001b[38;5;124m'\u001b[39m\u001b[38;5;124mFeed i\u001b[39m\u001b[38;5;124m'\u001b[39m,\u001b[38;5;124m'\u001b[39m\u001b[38;5;124mFeed O \u001b[39m\u001b[38;5;124m'\u001b[39m, \u001b[38;5;124m'\u001b[39m\u001b[38;5;124mFeed N\u001b[39m\u001b[38;5;124m'\u001b[39m]\n\u001b[0;32m      2\u001b[0m rows \u001b[38;5;241m=\u001b[39m [\u001b[38;5;124m'\u001b[39m\u001b[38;5;124mSulphur\u001b[39m\u001b[38;5;124m'\u001b[39m]\n\u001b[1;32m----> 3\u001b[0m yield_results_Sulphur, yield_std_Sulphur \u001b[38;5;241m=\u001b[39m utils\u001b[38;5;241m.\u001b[39mfeedsYield (\u001b[43mmodels_Sulphur\u001b[49m, cols, rows, multipleModels \u001b[38;5;241m=\u001b[39m \u001b[38;5;241m1\u001b[39m, constExp \u001b[38;5;241m=\u001b[39m [\u001b[38;5;241m0\u001b[39m,\u001b[38;5;241m1000\u001b[39m,\u001b[38;5;241m2\u001b[39m], feedRangeBounds \u001b[38;5;241m=\u001b[39m [\u001b[38;5;241m0\u001b[39m, \u001b[38;5;241m2000\u001b[39m])\n\u001b[0;32m      4\u001b[0m yield_results_Sulphur \u001b[38;5;241m=\u001b[39m yield_results_Sulphur\u001b[38;5;241m.\u001b[39mT\n\u001b[0;32m      5\u001b[0m yield_results_Sulphur\u001b[38;5;241m.\u001b[39mloc[\u001b[38;5;124m'\u001b[39m\u001b[38;5;124mFeed K\u001b[39m\u001b[38;5;124m'\u001b[39m] \u001b[38;5;241m=\u001b[39m \u001b[38;5;241m0\u001b[39m\n",
      "\u001b[1;31mNameError\u001b[0m: name 'models_Sulphur' is not defined"
     ]
    }
   ],
   "source": [
    "cols = ['Feed B', 'Feed S','Feed i','Feed O ', 'Feed N']\n",
    "rows = ['Sulphur']\n",
    "yield_results_Sulphur, yield_std_Sulphur = utils.feedsYield (models_Sulphur, cols, rows, multipleModels = 1, constExp = [0,1000,2], feedRangeBounds = [0, 2000])\n",
    "yield_results_Sulphur = yield_results_Sulphur.T\n",
    "yield_results_Sulphur.loc['Feed K'] = 0\n",
    "yield_std_Sulphur['Feed K'] = -1"
   ]
  },
  {
   "cell_type": "code",
   "execution_count": null,
   "metadata": {},
   "outputs": [
    {
     "data": {
      "text/html": [
       "<div>\n",
       "<style scoped>\n",
       "    .dataframe tbody tr th:only-of-type {\n",
       "        vertical-align: middle;\n",
       "    }\n",
       "\n",
       "    .dataframe tbody tr th {\n",
       "        vertical-align: top;\n",
       "    }\n",
       "\n",
       "    .dataframe thead th {\n",
       "        text-align: right;\n",
       "    }\n",
       "</style>\n",
       "<table border=\"1\" class=\"dataframe\">\n",
       "  <thead>\n",
       "    <tr style=\"text-align: right;\">\n",
       "      <th></th>\n",
       "      <th>C1</th>\n",
       "      <th>NGL</th>\n",
       "      <th>Sulphur</th>\n",
       "    </tr>\n",
       "  </thead>\n",
       "  <tbody>\n",
       "    <tr>\n",
       "      <th>Feed B</th>\n",
       "      <td>1.065880</td>\n",
       "      <td>9.672509</td>\n",
       "      <td>2.574972</td>\n",
       "    </tr>\n",
       "    <tr>\n",
       "      <th>Feed S</th>\n",
       "      <td>0.172588</td>\n",
       "      <td>8.975928</td>\n",
       "      <td>0.149176</td>\n",
       "    </tr>\n",
       "    <tr>\n",
       "      <th>Feed K</th>\n",
       "      <td>0.161296</td>\n",
       "      <td>1.921696</td>\n",
       "      <td>0.000000</td>\n",
       "    </tr>\n",
       "    <tr>\n",
       "      <th>Feed i</th>\n",
       "      <td>0.481714</td>\n",
       "      <td>3.413923</td>\n",
       "      <td>1.259542</td>\n",
       "    </tr>\n",
       "    <tr>\n",
       "      <th>Feed O</th>\n",
       "      <td>1.243236</td>\n",
       "      <td>12.458568</td>\n",
       "      <td>2.214764</td>\n",
       "    </tr>\n",
       "    <tr>\n",
       "      <th>Feed N</th>\n",
       "      <td>1.537414</td>\n",
       "      <td>12.127003</td>\n",
       "      <td>1.596944</td>\n",
       "    </tr>\n",
       "  </tbody>\n",
       "</table>\n",
       "</div>"
      ],
      "text/plain": [
       "               C1        NGL   Sulphur\n",
       "Feed B   1.065880   9.672509  2.574972\n",
       "Feed S   0.172588   8.975928  0.149176\n",
       "Feed K   0.161296   1.921696  0.000000\n",
       "Feed i   0.481714   3.413923  1.259542\n",
       "Feed O   1.243236  12.458568  2.214764\n",
       "Feed N   1.537414  12.127003  1.596944"
      ]
     },
     "execution_count": 76,
     "metadata": {},
     "output_type": "execute_result"
    }
   ],
   "source": [
    "yield_new = pd.concat([yield_results_C1, yield_results_NGL, yield_results_Sulphur], axis=1)\n",
    "yield_new.head(6)"
   ]
  },
  {
   "cell_type": "code",
   "execution_count": null,
   "metadata": {},
   "outputs": [],
   "source": []
  },
  {
   "cell_type": "code",
   "execution_count": null,
   "metadata": {},
   "outputs": [
    {
     "data": {
      "text/html": [
       "<div>\n",
       "<style scoped>\n",
       "    .dataframe tbody tr th:only-of-type {\n",
       "        vertical-align: middle;\n",
       "    }\n",
       "\n",
       "    .dataframe tbody tr th {\n",
       "        vertical-align: top;\n",
       "    }\n",
       "\n",
       "    .dataframe thead th {\n",
       "        text-align: right;\n",
       "    }\n",
       "</style>\n",
       "<table border=\"1\" class=\"dataframe\">\n",
       "  <thead>\n",
       "    <tr style=\"text-align: right;\">\n",
       "      <th></th>\n",
       "      <th>C1</th>\n",
       "      <th>NGL</th>\n",
       "      <th>Sulphur</th>\n",
       "    </tr>\n",
       "  </thead>\n",
       "  <tbody>\n",
       "    <tr>\n",
       "      <th>Feed B</th>\n",
       "      <td>0.043397</td>\n",
       "      <td>0.023139</td>\n",
       "      <td>0.222975</td>\n",
       "    </tr>\n",
       "    <tr>\n",
       "      <th>Feed S</th>\n",
       "      <td>0.040392</td>\n",
       "      <td>0.000944</td>\n",
       "      <td>0.234012</td>\n",
       "    </tr>\n",
       "    <tr>\n",
       "      <th>Feed K</th>\n",
       "      <td>0.029959</td>\n",
       "      <td>0.325145</td>\n",
       "      <td>-1.000000</td>\n",
       "    </tr>\n",
       "    <tr>\n",
       "      <th>Feed i</th>\n",
       "      <td>0.006155</td>\n",
       "      <td>0.229994</td>\n",
       "      <td>0.090812</td>\n",
       "    </tr>\n",
       "    <tr>\n",
       "      <th>Feed O</th>\n",
       "      <td>0.007445</td>\n",
       "      <td>0.001754</td>\n",
       "      <td>0.089037</td>\n",
       "    </tr>\n",
       "    <tr>\n",
       "      <th>Feed N</th>\n",
       "      <td>0.007476</td>\n",
       "      <td>0.008382</td>\n",
       "      <td>0.069186</td>\n",
       "    </tr>\n",
       "  </tbody>\n",
       "</table>\n",
       "</div>"
      ],
      "text/plain": [
       "               C1       NGL   Sulphur\n",
       "Feed B   0.043397  0.023139  0.222975\n",
       "Feed S   0.040392  0.000944  0.234012\n",
       "Feed K   0.029959  0.325145 -1.000000\n",
       "Feed i   0.006155  0.229994  0.090812\n",
       "Feed O   0.007445  0.001754  0.089037\n",
       "Feed N   0.007476  0.008382  0.069186"
      ]
     },
     "execution_count": 77,
     "metadata": {},
     "output_type": "execute_result"
    }
   ],
   "source": [
    "yield_std_new = pd.concat([yield_std_C1, yield_std_NGL, yield_std_Sulphur], axis=0).T\n",
    "yield_std_new.head(6)"
   ]
  },
  {
   "cell_type": "code",
   "execution_count": null,
   "metadata": {},
   "outputs": [
    {
     "name": "stdout",
     "output_type": "stream",
     "text": [
      "MSE: 389590.6421, and CMAPE: 0.9051\n"
     ]
    }
   ],
   "source": [
    "predNN_new = df_y_test_in.dot(yield_new) \n",
    "MSE = mean_squared_error(df_y_test_out, predNN_new)\n",
    "MAP = 1 - np.mean(np.abs((df_y_test_out - predNN_new) / df_y_test_out))\n",
    "\n",
    "print(f'MSE: {MSE:.4f}, and CMAPE: {MAP:.4f}')"
   ]
  }
 ],
 "metadata": {
  "kernelspec": {
   "display_name": "Python 3",
   "language": "python",
   "name": "python3"
  },
  "language_info": {
   "codemirror_mode": {
    "name": "ipython",
    "version": 3
   },
   "file_extension": ".py",
   "mimetype": "text/x-python",
   "name": "python",
   "nbconvert_exporter": "python",
   "pygments_lexer": "ipython3",
   "version": "3.12.6"
  }
 },
 "nbformat": 4,
 "nbformat_minor": 4
}
