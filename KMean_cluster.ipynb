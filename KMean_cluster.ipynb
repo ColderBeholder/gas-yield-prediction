{
 "cells": [
  {
   "cell_type": "code",
   "execution_count": 3,
   "metadata": {},
   "outputs": [],
   "source": [
    "# first call the data and make it data frame\n",
    "\n",
    "import pandas as pd\n",
    "\n",
    "file_path = r'G:\\My Drive\\AI 701 project\\For Python\\2022 training set_clean_good.xlsx'  \n",
    "sheet_name = 'For Python'  \n",
    "\n",
    "# Load the 2022 file\n",
    "data22 = pd.read_excel(file_path, sheet_name=sheet_name)\n",
    "\n",
    "\n",
    "tfile_path = r'G:\\My Drive\\AI 701 project\\2023 for testing.xlsx'  \n",
    "tsheet_name = 'Clean'  \n",
    "\n",
    "# Load the 2023 file\n",
    "data23 = pd.read_excel(tfile_path, sheet_name=tsheet_name)\n",
    "\n"
   ]
  },
  {
   "cell_type": "code",
   "execution_count": 4,
   "metadata": {},
   "outputs": [],
   "source": [
    "#Pick the desired Columns\n",
    "Selected = ['C1','Sulphur','NGL','Feed O ', 'Feed B', 'Feed S', 'Feed K','Feed I','Feed N']\n",
    "data23_s = data23[Selected].copy()\n",
    "data22_s = data22[Selected].copy()\n"
   ]
  },
  {
   "cell_type": "code",
   "execution_count": 6,
   "metadata": {},
   "outputs": [],
   "source": [
    "#add in 2021 and 2024, and fix the data in a similar sense.\n",
    "onefile_path = r'G:\\My Drive\\AI 701 project\\2021 daily actuals clean.xlsx'  \n",
    "onesheet_name = 'Clean'  \n",
    "\n",
    "# Load the 2021 file\n",
    "data21 = pd.read_excel(onefile_path, sheet_name=onesheet_name)\n",
    "\n",
    "\n",
    "\n",
    "ffile_path = r'G:\\My Drive\\AI 701 project\\2024 daily actuals clean.xlsx'  \n",
    "fsheet_name = 'Clean'  \n",
    "\n",
    "# Load the 2024 file\n",
    "data24 = pd.read_excel(ffile_path, sheet_name=fsheet_name)\n",
    "\n",
    "# some data manipulations to fit our model.\n",
    "\n",
    "\n",
    "data24 = data24.iloc[:, :13] #remove plant X data\n",
    "data21 = data21.iloc[:, :13] #remove plant X data\n",
    "\n",
    "data24.columns = data24.iloc[0]  # Set the first row as the column names\n",
    "data24 = data24[2:]  # Remove the first row as it's now the header, and 2nd row which is units\n",
    "\n",
    "# Reset index if needed\n",
    "data24.reset_index(drop=True, inplace=True)\n",
    "\n",
    "data21.columns = data21.iloc[0]  # Set the first row as the column names\n",
    "data21 = data21[2:]  # Remove the first row as it's now the header, and 2nd row which is units\n",
    "\n",
    "# Reset index if needed\n",
    "data21.reset_index(drop=True, inplace=True)\n",
    "\n",
    "#rename the columns same as 2023 and 2023\n",
    "data24.rename(columns={'NGL\\n': 'NGL'}, inplace=True)\n",
    "data24.rename(columns={'C1\\n': 'C1'}, inplace=True)\n",
    "\n",
    "data21.rename(columns={'NGL\\n': 'NGL'}, inplace=True)\n",
    "data21.rename(columns={'C1\\n': 'C1'}, inplace=True)\n",
    "\n",
    "data21.rename(columns={'Feed O': 'Feed O '}, inplace=True) #need to add the space\n",
    "data24.rename(columns={'Feed O': 'Feed O '}, inplace=True)\n"
   ]
  },
  {
   "cell_type": "code",
   "execution_count": 7,
   "metadata": {},
   "outputs": [
    {
     "name": "stdout",
     "output_type": "stream",
     "text": [
      "Index(['C1', 'Sulphur', 'NGL', 'Feed O ', 'Feed B', 'Feed S', 'Feed K',\n",
      "       'Feed I', 'Feed N'],\n",
      "      dtype='object', name=0)\n",
      "Index(['C1', 'Sulphur', 'NGL', 'Feed O ', 'Feed B', 'Feed S', 'Feed K',\n",
      "       'Feed I', 'Feed N'],\n",
      "      dtype='object', name=0)\n",
      "(365, 9)\n",
      "(141, 9)\n"
     ]
    }
   ],
   "source": [
    "data21_s = data21[Selected].copy()\n",
    "data24_s = data24[Selected].copy()\n",
    "\n",
    "print(data21_s.columns)\n",
    "print(data24_s.columns)\n",
    "\n",
    "print(data21_s.shape)\n",
    "print(data24_s.shape)"
   ]
  },
  {
   "cell_type": "code",
   "execution_count": 8,
   "metadata": {},
   "outputs": [
    {
     "name": "stdout",
     "output_type": "stream",
     "text": [
      "Index(['C1', 'Sulphur', 'NGL', 'Feed O ', 'Feed B', 'Feed S', 'Feed K',\n",
      "       'Feed I', 'Feed N'],\n",
      "      dtype='object')\n",
      "(1233, 9)\n",
      "0       200\n",
      "1       203\n",
      "2       201\n",
      "3       202\n",
      "4       200\n",
      "       ... \n",
      "1228    175\n",
      "1229    195\n",
      "1230    172\n",
      "1231    173\n",
      "1232      0\n",
      "Name: Feed O , Length: 1233, dtype: object\n"
     ]
    }
   ],
   "source": [
    "#combine 22 and 23 for one big data #I now added 2021 and 2024\n",
    "\n",
    "data1 = pd.concat([data22_s, data23_s, data21_s, data24_s], ignore_index=True)\n",
    "print(data1.columns)\n",
    "print(data1.shape)\n",
    "#print(data1.head)\n",
    "print(data1['Feed O '])"
   ]
  },
  {
   "cell_type": "code",
   "execution_count": 9,
   "metadata": {},
   "outputs": [
    {
     "name": "stdout",
     "output_type": "stream",
     "text": [
      "Total NaN values: 0\n",
      "Total -ve values: 34\n",
      "Negative values per column:\n",
      "C1         27\n",
      "Sulphur     0\n",
      "NGL         6\n",
      "Feed O      0\n",
      "Feed B      0\n",
      "Feed S      0\n",
      "Feed K      0\n",
      "Feed I      1\n",
      "Feed N      0\n",
      "dtype: int64\n",
      "Total -ve values: 0\n"
     ]
    }
   ],
   "source": [
    "import numpy as np\n",
    "\n",
    "# Count NaN values\n",
    "nan_count = data1.isna().sum().sum()  # Total NaNs\n",
    "print(f\"Total NaN values: {nan_count}\")\n",
    "\n",
    "# Count -ve\n",
    "negative_count = (data1 < 0).sum().sum()  # Total zeros\n",
    "print(f\"Total -ve values: {negative_count}\")\n",
    "\n",
    "negative_per_column = (data1 < 0).sum()\n",
    "print(\"Negative values per column:\")\n",
    "print(negative_per_column)\n",
    "\n",
    "data1[data1 < 0] = 0\n",
    "negative_count = (data1 < 0).sum().sum()  # Total zeros\n",
    "print(f\"Total -ve values: {negative_count}\")\n",
    "\n"
   ]
  },
  {
   "cell_type": "code",
   "execution_count": 10,
   "metadata": {},
   "outputs": [
    {
     "name": "stdout",
     "output_type": "stream",
     "text": [
      "Negative values per column:\n",
      "C1               0\n",
      "Sulphur          0\n",
      "NGL              0\n",
      "Feed O           0\n",
      "Feed B           0\n",
      "Feed S           0\n",
      "Feed K           0\n",
      "Feed I           0\n",
      "Feed N           0\n",
      "C1_adj         392\n",
      "Sulphur_adj    187\n",
      "NGL_adj         32\n",
      "dtype: int64\n"
     ]
    }
   ],
   "source": [
    "#Now for Each product, do the adjustment and then drop the negatives. (C1 is main culrpit)\n",
    "# Known weights for C1 and Sulphur\n",
    "\n",
    "c1_weights = np.array([0.84, 0.72, 0.84, 0.70])\n",
    "s_weights = np.array([0.90, 1.55, 2, 0])\n",
    "ngl_weights = np.array([2.49,7.8,2,9.47])\n",
    "\n",
    "data1['C1_adj'] = data1['C1'] - np.dot(data1[['Feed I', 'Feed B', 'Feed S', 'Feed K']].values, c1_weights)\n",
    "data1['Sulphur_adj'] = data1['Sulphur'] - np.dot(data1[['Feed I', 'Feed B', 'Feed S', 'Feed K']].values, s_weights)\n",
    "data1['NGL_adj'] = data1['NGL'] - np.dot(data1[['Feed I', 'Feed B', 'Feed S', 'Feed K']].values, ngl_weights)\n",
    "\n",
    "negative_per_column = (data1 < 0).sum()\n",
    "print(\"Negative values per column:\")\n",
    "print(negative_per_column)\n"
   ]
  },
  {
   "cell_type": "code",
   "execution_count": 11,
   "metadata": {},
   "outputs": [
    {
     "data": {
      "text/plain": [
       "<bound method NDFrame.head of         C1 Sulphur    NGL Feed O  Feed B   Feed S Feed K   Feed N Feed I\n",
       "0     1080    1944  11446     200    303    180.0      0   163.51    542\n",
       "1     1069    1951  11476     203    302    183.0      0  160.636    544\n",
       "2     1078    2278  11656     201    301    190.0      0  161.996    519\n",
       "3     1137    2431  11442     202    301    191.0      0  163.799    564\n",
       "4     1135    2532   9582     200    301    191.0      0  163.584    477\n",
       "...    ...     ...    ...     ...    ...      ...    ...      ...    ...\n",
       "1228  1044    2224  12519     175    238  564.308    148  161.078    438\n",
       "1229  1064    1125  12778     195    253  560.778    152  161.495    531\n",
       "1230  1057    3224  13049     172    242   555.51    126  158.545    587\n",
       "1231  1088    2099  12634     173    262  559.843    155   158.43    656\n",
       "1232  1092    2021  12657       0    277  556.569    146  158.924    589\n",
       "\n",
       "[1233 rows x 9 columns]>"
      ]
     },
     "execution_count": 11,
     "metadata": {},
     "output_type": "execute_result"
    }
   ],
   "source": [
    "data_cluster=data1[['C1', 'Sulphur', 'NGL', 'Feed O ', 'Feed B', 'Feed S', 'Feed K','Feed N',\n",
    "       'Feed I']]\n",
    "data_cluster.head"
   ]
  },
  {
   "cell_type": "code",
   "execution_count": 12,
   "metadata": {},
   "outputs": [
    {
     "data": {
      "text/html": [
       "<div>\n",
       "<style scoped>\n",
       "    .dataframe tbody tr th:only-of-type {\n",
       "        vertical-align: middle;\n",
       "    }\n",
       "\n",
       "    .dataframe tbody tr th {\n",
       "        vertical-align: top;\n",
       "    }\n",
       "\n",
       "    .dataframe thead th {\n",
       "        text-align: right;\n",
       "    }\n",
       "</style>\n",
       "<table border=\"1\" class=\"dataframe\">\n",
       "  <thead>\n",
       "    <tr style=\"text-align: right;\">\n",
       "      <th></th>\n",
       "    </tr>\n",
       "  </thead>\n",
       "  <tbody>\n",
       "    <tr>\n",
       "      <th>Feed O</th>\n",
       "    </tr>\n",
       "    <tr>\n",
       "      <th>Feed B</th>\n",
       "    </tr>\n",
       "    <tr>\n",
       "      <th>Feed S</th>\n",
       "    </tr>\n",
       "    <tr>\n",
       "      <th>Feed K</th>\n",
       "    </tr>\n",
       "    <tr>\n",
       "      <th>Feed N</th>\n",
       "    </tr>\n",
       "    <tr>\n",
       "      <th>Feed I</th>\n",
       "    </tr>\n",
       "  </tbody>\n",
       "</table>\n",
       "</div>"
      ],
      "text/plain": [
       "Empty DataFrame\n",
       "Columns: []\n",
       "Index: [Feed O , Feed B, Feed S, Feed K, Feed N, Feed I]"
      ]
     },
     "execution_count": 12,
     "metadata": {},
     "output_type": "execute_result"
    }
   ],
   "source": [
    "import pandas as pd\n",
    "from sklearn.preprocessing import StandardScaler\n",
    "from sklearn.cluster import KMeans\n",
    "import matplotlib.pyplot as plt\n",
    "\n",
    "\n",
    "# Create DataFrame\n",
    "df = pd.DataFrame(data_cluster)\n",
    "\n",
    "# Calculate total feed volume per day\n",
    "df['Total Feed'] = df[['Feed O ', 'Feed B', 'Feed S', 'Feed K', 'Feed N', 'Feed I']].sum(axis=1)\n",
    "\n",
    "# Calculate proportions of each feed\n",
    "for feed in ['Feed O ', 'Feed B', 'Feed S', 'Feed K', 'Feed N', 'Feed I']:\n",
    "    df[f'{feed}_Prop'] = df[feed] / df['Total Feed']\n",
    "\n",
    "# Calculate production contributions for each feed\n",
    "for feed in ['Feed O ', 'Feed B', 'Feed S', 'Feed K', 'Feed N', 'Feed I']:\n",
    "    df[f'{feed}_C1'] = df[f'{feed}_Prop'] * df['C1']\n",
    "    df[f'{feed}_Sulphur'] = df[f'{feed}_Prop'] * df['Sulphur']\n",
    "    df[f'{feed}_NGL'] = df[f'{feed}_Prop'] * df['NGL']\n",
    "\n",
    "# Initialize feeds_transposed with feeds as rows\n",
    "feeds_transposed = pd.DataFrame(index=['Feed O ', 'Feed B', 'Feed S', 'Feed K', 'Feed N', 'Feed I'])\n",
    "\n",
    "feeds_transposed"
   ]
  },
  {
   "cell_type": "code",
   "execution_count": 13,
   "metadata": {},
   "outputs": [
    {
     "data": {
      "text/html": [
       "<div>\n",
       "<style scoped>\n",
       "    .dataframe tbody tr th:only-of-type {\n",
       "        vertical-align: middle;\n",
       "    }\n",
       "\n",
       "    .dataframe tbody tr th {\n",
       "        vertical-align: top;\n",
       "    }\n",
       "\n",
       "    .dataframe thead th {\n",
       "        text-align: right;\n",
       "    }\n",
       "</style>\n",
       "<table border=\"1\" class=\"dataframe\">\n",
       "  <thead>\n",
       "    <tr style=\"text-align: right;\">\n",
       "      <th></th>\n",
       "      <th>Feed S_C1</th>\n",
       "    </tr>\n",
       "  </thead>\n",
       "  <tbody>\n",
       "    <tr>\n",
       "      <th>0</th>\n",
       "      <td>140.006194</td>\n",
       "    </tr>\n",
       "    <tr>\n",
       "      <th>1</th>\n",
       "      <td>140.472457</td>\n",
       "    </tr>\n",
       "    <tr>\n",
       "      <th>2</th>\n",
       "      <td>149.177419</td>\n",
       "    </tr>\n",
       "    <tr>\n",
       "      <th>3</th>\n",
       "      <td>152.740999</td>\n",
       "    </tr>\n",
       "    <tr>\n",
       "      <th>4</th>\n",
       "      <td>162.680176</td>\n",
       "    </tr>\n",
       "    <tr>\n",
       "      <th>...</th>\n",
       "      <td>...</td>\n",
       "    </tr>\n",
       "    <tr>\n",
       "      <th>1228</th>\n",
       "      <td>341.650623</td>\n",
       "    </tr>\n",
       "    <tr>\n",
       "      <th>1229</th>\n",
       "      <td>321.953534</td>\n",
       "    </tr>\n",
       "    <tr>\n",
       "      <th>1230</th>\n",
       "      <td>318.933476</td>\n",
       "    </tr>\n",
       "    <tr>\n",
       "      <th>1231</th>\n",
       "      <td>310.093955</td>\n",
       "    </tr>\n",
       "    <tr>\n",
       "      <th>1232</th>\n",
       "      <td>351.823914</td>\n",
       "    </tr>\n",
       "  </tbody>\n",
       "</table>\n",
       "<p>1233 rows × 1 columns</p>\n",
       "</div>"
      ],
      "text/plain": [
       "       Feed S_C1\n",
       "0     140.006194\n",
       "1     140.472457\n",
       "2     149.177419\n",
       "3     152.740999\n",
       "4     162.680176\n",
       "...          ...\n",
       "1228  341.650623\n",
       "1229  321.953534\n",
       "1230  318.933476\n",
       "1231  310.093955\n",
       "1232  351.823914\n",
       "\n",
       "[1233 rows x 1 columns]"
      ]
     },
     "execution_count": 13,
     "metadata": {},
     "output_type": "execute_result"
    }
   ],
   "source": [
    "df.columns\n",
    "df[['Feed S_C1']]"
   ]
  },
  {
   "cell_type": "code",
   "execution_count": 14,
   "metadata": {},
   "outputs": [
    {
     "data": {
      "text/html": [
       "<div>\n",
       "<style scoped>\n",
       "    .dataframe tbody tr th:only-of-type {\n",
       "        vertical-align: middle;\n",
       "    }\n",
       "\n",
       "    .dataframe tbody tr th {\n",
       "        vertical-align: top;\n",
       "    }\n",
       "\n",
       "    .dataframe thead th {\n",
       "        text-align: right;\n",
       "    }\n",
       "</style>\n",
       "<table border=\"1\" class=\"dataframe\">\n",
       "  <thead>\n",
       "    <tr style=\"text-align: right;\">\n",
       "      <th></th>\n",
       "      <th>C1</th>\n",
       "      <th>Sulphur</th>\n",
       "      <th>NGL</th>\n",
       "    </tr>\n",
       "  </thead>\n",
       "  <tbody>\n",
       "    <tr>\n",
       "      <th>Feed O</th>\n",
       "      <td>144746.245152</td>\n",
       "      <td>3.021006e+05</td>\n",
       "      <td>1.564295e+06</td>\n",
       "    </tr>\n",
       "    <tr>\n",
       "      <th>Feed B</th>\n",
       "      <td>210784.108176</td>\n",
       "      <td>4.404025e+05</td>\n",
       "      <td>2.212813e+06</td>\n",
       "    </tr>\n",
       "    <tr>\n",
       "      <th>Feed S</th>\n",
       "      <td>282213.619009</td>\n",
       "      <td>5.782665e+05</td>\n",
       "      <td>3.124528e+06</td>\n",
       "    </tr>\n",
       "    <tr>\n",
       "      <th>Feed K</th>\n",
       "      <td>29330.294139</td>\n",
       "      <td>5.965999e+04</td>\n",
       "      <td>3.128632e+05</td>\n",
       "    </tr>\n",
       "    <tr>\n",
       "      <th>Feed N</th>\n",
       "      <td>127044.998305</td>\n",
       "      <td>2.621041e+05</td>\n",
       "      <td>1.350816e+06</td>\n",
       "    </tr>\n",
       "    <tr>\n",
       "      <th>Feed I</th>\n",
       "      <td>496621.735219</td>\n",
       "      <td>1.046820e+06</td>\n",
       "      <td>5.122191e+06</td>\n",
       "    </tr>\n",
       "  </tbody>\n",
       "</table>\n",
       "</div>"
      ],
      "text/plain": [
       "                    C1       Sulphur           NGL\n",
       "Feed O   144746.245152  3.021006e+05  1.564295e+06\n",
       "Feed B   210784.108176  4.404025e+05  2.212813e+06\n",
       "Feed S   282213.619009  5.782665e+05  3.124528e+06\n",
       "Feed K    29330.294139  5.965999e+04  3.128632e+05\n",
       "Feed N   127044.998305  2.621041e+05  1.350816e+06\n",
       "Feed I   496621.735219  1.046820e+06  5.122191e+06"
      ]
     },
     "execution_count": 14,
     "metadata": {},
     "output_type": "execute_result"
    }
   ],
   "source": [
    "# Aggregate contributions for each feed\n",
    "for product in ['C1', 'Sulphur', 'NGL']:\n",
    "    feeds_transposed[product] = [\n",
    "        df[f'{feed}_{product}'].sum() for feed in ['Feed O ', 'Feed B', 'Feed S', 'Feed K', 'Feed N', 'Feed I']\n",
    "    ]\n",
    "feeds_transposed\n"
   ]
  },
  {
   "cell_type": "code",
   "execution_count": 15,
   "metadata": {},
   "outputs": [
    {
     "name": "stdout",
     "output_type": "stream",
     "text": [
      "NaN values after handling: C1             0\n",
      "Sulphur        0\n",
      "NGL            0\n",
      "Mean Volume    0\n",
      "Std Volume     0\n",
      "dtype: int64\n"
     ]
    }
   ],
   "source": [
    "\n",
    "\n",
    "# Aggregate feed volumes\n",
    "feeds_transposed['Mean Volume'] = df[['Feed O ', 'Feed B', 'Feed S', 'Feed K', 'Feed N', 'Feed I']].mean(axis=0).values\n",
    "feeds_transposed['Std Volume'] = df[['Feed O ', 'Feed B', 'Feed S', 'Feed K', 'Feed N', 'Feed I']].std(axis=0).values\n",
    "\n",
    "# Handle NaN values\n",
    "feeds_transposed.fillna(0, inplace=True)  # Replace NaNs with 0\n",
    "print(\"NaN values after handling:\", feeds_transposed.isna().sum())\n",
    "\n",
    "# Combine features for clustering\n",
    "clustering_features = feeds_transposed[['Mean Volume', 'Std Volume', 'C1', 'Sulphur', 'NGL']]\n",
    "\n",
    "# Normalize features\n",
    "scaler = StandardScaler()\n",
    "scaled_features = scaler.fit_transform(clustering_features)\n",
    "\n",
    "\n",
    "\n"
   ]
  },
  {
   "cell_type": "code",
   "execution_count": 16,
   "metadata": {},
   "outputs": [
    {
     "data": {
      "text/html": [
       "<div>\n",
       "<style scoped>\n",
       "    .dataframe tbody tr th:only-of-type {\n",
       "        vertical-align: middle;\n",
       "    }\n",
       "\n",
       "    .dataframe tbody tr th {\n",
       "        vertical-align: top;\n",
       "    }\n",
       "\n",
       "    .dataframe thead th {\n",
       "        text-align: right;\n",
       "    }\n",
       "</style>\n",
       "<table border=\"1\" class=\"dataframe\">\n",
       "  <thead>\n",
       "    <tr style=\"text-align: right;\">\n",
       "      <th></th>\n",
       "      <th>Mean Volume</th>\n",
       "      <th>Std Volume</th>\n",
       "      <th>C1</th>\n",
       "      <th>Sulphur</th>\n",
       "      <th>NGL</th>\n",
       "    </tr>\n",
       "  </thead>\n",
       "  <tbody>\n",
       "    <tr>\n",
       "      <th>Feed O</th>\n",
       "      <td>176.164639</td>\n",
       "      <td>48.84397</td>\n",
       "      <td>144746.245152</td>\n",
       "      <td>3.021006e+05</td>\n",
       "      <td>1.564295e+06</td>\n",
       "    </tr>\n",
       "    <tr>\n",
       "      <th>Feed B</th>\n",
       "      <td>248.124899</td>\n",
       "      <td>84.577093</td>\n",
       "      <td>210784.108176</td>\n",
       "      <td>4.404025e+05</td>\n",
       "      <td>2.212813e+06</td>\n",
       "    </tr>\n",
       "    <tr>\n",
       "      <th>Feed S</th>\n",
       "      <td>349.162797</td>\n",
       "      <td>161.044612</td>\n",
       "      <td>282213.619009</td>\n",
       "      <td>5.782665e+05</td>\n",
       "      <td>3.124528e+06</td>\n",
       "    </tr>\n",
       "    <tr>\n",
       "      <th>Feed K</th>\n",
       "      <td>39.197891</td>\n",
       "      <td>43.664933</td>\n",
       "      <td>29330.294139</td>\n",
       "      <td>5.965999e+04</td>\n",
       "      <td>3.128632e+05</td>\n",
       "    </tr>\n",
       "    <tr>\n",
       "      <th>Feed N</th>\n",
       "      <td>151.47441</td>\n",
       "      <td>39.611925</td>\n",
       "      <td>127044.998305</td>\n",
       "      <td>2.621041e+05</td>\n",
       "      <td>1.350816e+06</td>\n",
       "    </tr>\n",
       "    <tr>\n",
       "      <th>Feed I</th>\n",
       "      <td>599.69262</td>\n",
       "      <td>201.715549</td>\n",
       "      <td>496621.735219</td>\n",
       "      <td>1.046820e+06</td>\n",
       "      <td>5.122191e+06</td>\n",
       "    </tr>\n",
       "  </tbody>\n",
       "</table>\n",
       "</div>"
      ],
      "text/plain": [
       "        Mean Volume  Std Volume             C1       Sulphur           NGL\n",
       "Feed O   176.164639    48.84397  144746.245152  3.021006e+05  1.564295e+06\n",
       "Feed B   248.124899   84.577093  210784.108176  4.404025e+05  2.212813e+06\n",
       "Feed S   349.162797  161.044612  282213.619009  5.782665e+05  3.124528e+06\n",
       "Feed K    39.197891   43.664933   29330.294139  5.965999e+04  3.128632e+05\n",
       "Feed N    151.47441   39.611925  127044.998305  2.621041e+05  1.350816e+06\n",
       "Feed I    599.69262  201.715549  496621.735219  1.046820e+06  5.122191e+06"
      ]
     },
     "execution_count": 16,
     "metadata": {},
     "output_type": "execute_result"
    }
   ],
   "source": [
    "clustering_features"
   ]
  },
  {
   "cell_type": "code",
   "execution_count": 20,
   "metadata": {},
   "outputs": [
    {
     "name": "stdout",
     "output_type": "stream",
     "text": [
      "Final Clustered Feeds Transposed:\n",
      "                     C1       Sulphur           NGL Mean Volume  Std Volume  \\\n",
      "Feed O   144746.245152  3.021006e+05  1.564295e+06  176.164639    48.84397   \n",
      "Feed B   210784.108176  4.404025e+05  2.212813e+06  248.124899   84.577093   \n",
      "Feed S   282213.619009  5.782665e+05  3.124528e+06  349.162797  161.044612   \n",
      "Feed K    29330.294139  5.965999e+04  3.128632e+05   39.197891   43.664933   \n",
      "Feed N   127044.998305  2.621041e+05  1.350816e+06   151.47441   39.611925   \n",
      "Feed I   496621.735219  1.046820e+06  5.122191e+06   599.69262  201.715549   \n",
      "\n",
      "         Cluster  \n",
      "Feed O         1  \n",
      "Feed B         1  \n",
      "Feed S         0  \n",
      "Feed K         1  \n",
      "Feed N         1  \n",
      "Feed I         0  \n"
     ]
    },
    {
     "data": {
      "image/png": "[encoded data removed]",
      "text/plain": [
       "<Figure size 1000x600 with 2 Axes>"
      ]
     },
     "metadata": {},
     "output_type": "display_data"
    }
   ],
   "source": [
    "\n",
    "# Perform clustering\n",
    "kmeans = KMeans(n_clusters=2, random_state=42)\n",
    "feeds_transposed['Cluster'] = kmeans.fit_predict(scaled_features)\n",
    "\n",
    "# Debug: Check final clustered DataFrame\n",
    "print(\"Final Clustered Feeds Transposed:\\n\", feeds_transposed)\n",
    "\n",
    "# Plot the clusters\n",
    "plt.figure(figsize=(10, 6))\n",
    "plt.scatter(\n",
    "    feeds_transposed['C1'],\n",
    "    feeds_transposed['NGL'],\n",
    "    c=feeds_transposed['Cluster'],\n",
    "    cmap='viridis',\n",
    "    s=100\n",
    ")\n",
    "plt.xlabel('C1 Contribution', fontsize=12)\n",
    "plt.ylabel('NGL Contribution', fontsize=12)\n",
    "plt.title('Clustering Feeds Based on Production Contributions', fontsize=14)\n",
    "plt.colorbar(label='Cluster')\n",
    "plt.grid(alpha=0.3)\n",
    "plt.show()\n"
   ]
  },
  {
   "cell_type": "code",
   "execution_count": 21,
   "metadata": {},
   "outputs": [
    {
     "data": {
      "image/png": "[encoded data removed]",
      "text/plain": [
       "<Figure size 1000x600 with 1 Axes>"
      ]
     },
     "metadata": {},
     "output_type": "display_data"
    }
   ],
   "source": [
    "import matplotlib.pyplot as plt\n",
    "from sklearn.cluster import KMeans\n",
    "\n",
    "# Elbow Method to determine the optimal number of clusters\n",
    "inertias = []\n",
    "cluster_range = range(1, 6)  # Test 1 to 10 clusters\n",
    "\n",
    "for k in cluster_range:\n",
    "    kmeans = KMeans(n_clusters=k, random_state=42)\n",
    "    kmeans.fit(scaled_features)\n",
    "    inertias.append(kmeans.inertia_)\n",
    "\n",
    "# Plot the Elbow Method\n",
    "plt.figure(figsize=(10, 6))\n",
    "plt.plot(cluster_range, inertias, marker='o')\n",
    "plt.xlabel('Number of Clusters', fontsize=12)\n",
    "plt.ylabel('Inertia', fontsize=12)\n",
    "plt.title('Elbow Method for Optimal Number of Clusters', fontsize=14)\n",
    "plt.grid(alpha=0.3)\n",
    "plt.show()\n"
   ]
  }
 ],
 "metadata": {
  "kernelspec": {
   "display_name": "Python 3",
   "language": "python",
   "name": "python3"
  },
  "language_info": {
   "codemirror_mode": {
    "name": "ipython",
    "version": 3
   },
   "file_extension": ".py",
   "mimetype": "text/x-python",
   "name": "python",
   "nbconvert_exporter": "python",
   "pygments_lexer": "ipython3",
   "version": "3.12.7"
  }
 },
 "nbformat": 4,
 "nbformat_minor": 2
}
